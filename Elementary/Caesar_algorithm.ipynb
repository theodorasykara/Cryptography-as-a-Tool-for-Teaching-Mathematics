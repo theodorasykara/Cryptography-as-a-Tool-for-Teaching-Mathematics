{
 "cells": [
  {
   "cell_type": "code",
   "execution_count": 7,
   "metadata": {},
   "outputs": [],
   "source": [
    "from sage.interacts.library import interact\n",
    "from ipywidgets import widgets, Output"
   ]
  },
  {
   "cell_type": "code",
   "execution_count": 1,
   "metadata": {
    "scrolled": true
   },
   "outputs": [
    {
     "data": {
      "text/html": [
       "**Ελληνικό αλφάβητο με αντιστοίχιση αριθμών:**"
      ],
      "text/plain": [
       "'**Ελληνικό αλφάβητο με αντιστοίχιση αριθμών:**'"
      ]
     },
     "metadata": {},
     "output_type": "display_data"
    },
    {
     "data": {
      "text/html": [
       "<html><script type=\"math/tex; mode=display\">\\newcommand{\\Bold}[1]{\\mathbf{#1}}\\left\\{\\verb|Α| : 0, \\verb|Β| : 1, \\verb|Γ| : 2, \\verb|Δ| : 3, \\verb|Ε| : 4, \\verb|Ζ| : 5, \\verb|Η| : 6, \\verb|Θ| : 7, \\verb|Ι| : 8, \\verb|Κ| : 9, \\verb|Λ| : 10, \\verb|Μ| : 11, \\verb|Ν| : 12, \\verb|Ξ| : 13, \\verb|Ο| : 14, \\verb|Π| : 15, \\verb|Ρ| : 16, \\verb|Σ| : 17, \\verb|Τ| : 18, \\verb|Υ| : 19, \\verb|Φ| : 20, \\verb|Χ| : 21, \\verb|Ψ| : 22, \\verb|Ω| : 23\\right\\}</script></html>"
      ],
      "text/latex": [
       "$$\\newcommand{\\Bold}[1]{\\mathbf{#1}}\\left\\{\\verb|Α| : 0, \\verb|Β| : 1, \\verb|Γ| : 2, \\verb|Δ| : 3, \\verb|Ε| : 4, \\verb|Ζ| : 5, \\verb|Η| : 6, \\verb|Θ| : 7, \\verb|Ι| : 8, \\verb|Κ| : 9, \\verb|Λ| : 10, \\verb|Μ| : 11, \\verb|Ν| : 12, \\verb|Ξ| : 13, \\verb|Ο| : 14, \\verb|Π| : 15, \\verb|Ρ| : 16, \\verb|Σ| : 17, \\verb|Τ| : 18, \\verb|Υ| : 19, \\verb|Φ| : 20, \\verb|Χ| : 21, \\verb|Ψ| : 22, \\verb|Ω| : 23\\right\\}$$"
      ],
      "text/plain": [
       "{'Α': 0,\n",
       " 'Β': 1,\n",
       " 'Γ': 2,\n",
       " 'Δ': 3,\n",
       " 'Ε': 4,\n",
       " 'Ζ': 5,\n",
       " 'Η': 6,\n",
       " 'Θ': 7,\n",
       " 'Ι': 8,\n",
       " 'Κ': 9,\n",
       " 'Λ': 10,\n",
       " 'Μ': 11,\n",
       " 'Ν': 12,\n",
       " 'Ξ': 13,\n",
       " 'Ο': 14,\n",
       " 'Π': 15,\n",
       " 'Ρ': 16,\n",
       " 'Σ': 17,\n",
       " 'Τ': 18,\n",
       " 'Υ': 19,\n",
       " 'Φ': 20,\n",
       " 'Χ': 21,\n",
       " 'Ψ': 22,\n",
       " 'Ω': 23}"
      ]
     },
     "metadata": {},
     "output_type": "display_data"
    },
    {
     "data": {
      "text/html": [
       "**Κρυπτογράφηση της λέξης:**"
      ],
      "text/plain": [
       "'**Κρυπτογράφηση της λέξης:**'"
      ]
     },
     "metadata": {},
     "output_type": "display_data"
    },
    {
     "data": {
      "text/html": [
       "Βήματα κρυπτογράφησης: Γ (θέση 2) → Ζ (θέση 5), Α (θέση 0) → Δ (θέση 3), Τ (θέση 18) → Χ (θέση 21), Α (θέση 0) → Δ (θέση 3)"
      ],
      "text/plain": [
       "'Βήματα κρυπτογράφησης: Γ (θέση 2) → Ζ (θέση 5), Α (θέση 0) → Δ (θέση 3), Τ (θέση 18) → Χ (θέση 21), Α (θέση 0) → Δ (θέση 3)'"
      ]
     },
     "metadata": {},
     "output_type": "display_data"
    },
    {
     "data": {
      "text/html": [
       "Το κρυπτογραφημένο μήνυμα είναι: **ΖΔΧΔ**"
      ],
      "text/plain": [
       "'Το κρυπτογραφημένο μήνυμα είναι: **ΖΔΧΔ**'"
      ]
     },
     "metadata": {},
     "output_type": "display_data"
    },
    {
     "data": {
      "text/html": [
       "**Αποκρυπτογράφηση του κρυπτογραφημένου μηνύματος:**"
      ],
      "text/plain": [
       "'**Αποκρυπτογράφηση του κρυπτογραφημένου μηνύματος:**'"
      ]
     },
     "metadata": {},
     "output_type": "display_data"
    },
    {
     "data": {
      "text/html": [
       "Βήματα αποκρυπτογράφησης: Ζ (θέση 5) → Γ (θέση 2), Δ (θέση 3) → Α (θέση 0), Χ (θέση 21) → Τ (θέση 18), Δ (θέση 3) → Α (θέση 0)"
      ],
      "text/plain": [
       "'Βήματα αποκρυπτογράφησης: Ζ (θέση 5) → Γ (θέση 2), Δ (θέση 3) → Α (θέση 0), Χ (θέση 21) → Τ (θέση 18), Δ (θέση 3) → Α (θέση 0)'"
      ]
     },
     "metadata": {},
     "output_type": "display_data"
    },
    {
     "data": {
      "text/html": [
       "Το αποκρυπτογραφημένο μήνυμα είναι: **ΓΑΤΑ**"
      ],
      "text/plain": [
       "'Το αποκρυπτογραφημένο μήνυμα είναι: **ΓΑΤΑ**'"
      ]
     },
     "metadata": {},
     "output_type": "display_data"
    }
   ],
   "source": [
    "#Εφαρμογή του αλγορίθμου του Καισαρα για Κρυπτογράφηση και Αποκρυπτογράφηση (Παράδειγμα \"ΓΑΤΑ\")\n",
    "def caesar_cipher_presentation():\n",
    "    # Ελληνικό αλφάβητο\n",
    "    greek_alphabet = 'ΑΒΓΔΕΖΗΘΙΚΛΜΝΞΟΠΡΣΤΥΦΧΨΩ'\n",
    "    alphabet_size = len(greek_alphabet)\n",
    "    \n",
    "    # Παράδειγμα λέξης και κλειδιού\n",
    "    word = \"ΓΑΤΑ\"\n",
    "    k = 3\n",
    "    \n",
    "    # Εμφάνιση του αλφαβήτου με αντιστοίχιση αριθμών\n",
    "    show(\"**Ελληνικό αλφάβητο με αντιστοίχιση αριθμών:**\")\n",
    "    alphabet_mapping = {letter: idx for idx, letter in enumerate(greek_alphabet)}\n",
    "    show(alphabet_mapping)\n",
    "    \n",
    "    # Κρυπτογράφηση\n",
    "    show(\"**Κρυπτογράφηση της λέξης:**\")\n",
    "    encrypted_word = ''\n",
    "    encryption_steps = []\n",
    "    for letter in word:\n",
    "        original_pos = alphabet_mapping[letter]\n",
    "        new_pos = (original_pos + k) % alphabet_size\n",
    "        encrypted_letter = greek_alphabet[new_pos]\n",
    "        encrypted_word += encrypted_letter\n",
    "        encryption_steps.append(f\"{letter} (θέση {original_pos}) → {encrypted_letter} (θέση {new_pos})\")\n",
    "    show(f\"Βήματα κρυπτογράφησης: {', '.join(encryption_steps)}\")\n",
    "    show(f\"Το κρυπτογραφημένο μήνυμα είναι: **{encrypted_word}**\")\n",
    "    \n",
    "    # Αποκρυπτογράφηση\n",
    "    show(\"**Αποκρυπτογράφηση του κρυπτογραφημένου μηνύματος:**\")\n",
    "    decrypted_word = ''\n",
    "    decryption_steps = []\n",
    "    for letter in encrypted_word:\n",
    "        encrypted_pos = alphabet_mapping[letter]\n",
    "        original_pos = (encrypted_pos - k) % alphabet_size\n",
    "        decrypted_letter = greek_alphabet[original_pos]\n",
    "        decrypted_word += decrypted_letter\n",
    "        decryption_steps.append(f\"{letter} (θέση {encrypted_pos}) → {decrypted_letter} (θέση {original_pos})\")\n",
    "    show(f\"Βήματα αποκρυπτογράφησης: {', '.join(decryption_steps)}\")\n",
    "    show(f\"Το αποκρυπτογραφημένο μήνυμα είναι: **{decrypted_word}**\")\n",
    "    \n",
    "# Εκτέλεση της παρουσίασης\n",
    "caesar_cipher_presentation()\n",
    "\n",
    "\n"
   ]
  },
  {
   "cell_type": "code",
   "execution_count": 6,
   "metadata": {},
   "outputs": [
    {
     "data": {
      "application/vnd.jupyter.widget-view+json": {
       "model_id": "5e2f2b35c3184dc9934d702af9e16bef",
       "version_major": 2,
       "version_minor": 0
      },
      "text/plain": [
       "Interactive function <function caesar_cipher at 0x6ffd4c88e8c0> with 5 widgets\n",
       "  name: TransformText(value='TH…"
      ]
     },
     "metadata": {},
     "output_type": "display_data"
    }
   ],
   "source": [
    "#Διαδραστική Εφαρμογή του αλγορίθμου του Καισαρα για Κρυπτογράφηση και Αποκρυπτογράφηση \n",
    "#Τα παιδια επιλέγουν τα ονόματά τους-Εισαγωγή στα αγγλικά\n",
    "@interact\n",
    "def caesar_cipher(\n",
    "    name=input_box(default=\"THEODORA\", label=\"Εισάγετε το όνομά σας (κεφαλαία):\", type=str),\n",
    "    k=slider(1, 25, 1, default=3, label=\"Επιλέξτε το κλειδί (k):\"),\n",
    "    action=selector(['Κρυπτογράφηση', 'Αποκρυπτογράφηση'], label=\"Επιλέξτε ενέργεια:\"),\n",
    "    student_answer=input_box(default=\"\", label=\"Γράψτε την απάντησή σας:\", type=str),\n",
    "    confirm=selector(['Όχι', 'Ναι'], label=\"Θέλετε να υποβάλετε την απάντησή σας;\")\n",
    "):\n",
    "    # Αγγλικό αλφάβητο\n",
    "    alphabet = 'ABCDEFGHIJKLMNOPQRSTUVWXYZ'\n",
    "    alphabet_size = len(alphabet)\n",
    "    \n",
    "    # Μετατροπή εισόδου σε κεφαλαία\n",
    "    name = str(name).strip().upper()\n",
    "    student_answer = str(student_answer).strip().upper()\n",
    "    \n",
    "    # Εμφάνιση των labels στο output\n",
    "    show(\"Εισάγετε το όνομά σας (κεφαλαία):\")\n",
    "    show(f\"Όνομα: **{name}**\")\n",
    "    show(\"Επιλέξτε το κλειδί (k):\")\n",
    "    show(f\"Κλειδί: **{k}**\")\n",
    "    show(\"Επιλέξτε ενέργεια:\")\n",
    "    show(f\"Ενέργεια: **{action}**\")\n",
    "    show(\"Γράψτε την απάντησή σας:\")\n",
    "    show(f\"Απάντηση μαθητή: **{student_answer}**\")\n",
    "    \n",
    "    # Υπολογισμός της σωστής απάντησης\n",
    "    if action == 'Κρυπτογράφηση':\n",
    "        correct_answer = ''.join(\n",
    "            [alphabet[(alphabet.index(char) + k) % alphabet_size] if char in alphabet else char for char in name]\n",
    "        )\n",
    "    elif action == 'Αποκρυπτογράφηση':\n",
    "        correct_answer = ''.join(\n",
    "            [alphabet[(alphabet.index(char) - k) % alphabet_size] if char in alphabet else char for char in name]\n",
    "        )\n",
    "    \n",
    "    # Έλεγχος αν ο μαθητής έχει επιβεβαιώσει την υποβολή\n",
    "    if confirm == 'Ναι':\n",
    "        # Έλεγχος αν η απάντηση είναι σωστή\n",
    "        if student_answer == correct_answer:\n",
    "            show(f\"Σωστά! Η απάντησή σας **{student_answer}** είναι σωστή!\")\n",
    "        else:\n",
    "            show(f\"Λάθος. Η σωστή απάντηση είναι: **{correct_answer}**.\")\n",
    "            \n",
    "            # Παροχή ανατροφοδότησης\n",
    "            if action == 'Κρυπτογράφηση':\n",
    "                show(\"Διαδικασία για Κρυπτογράφηση:\")\n",
    "                show(f\"1. Ξεκινάμε με το όνομα: {name}.\")\n",
    "                show(f\"2. Μετακινούμε κάθε γράμμα κατά {k} θέσεις προς τα εμπρός.\")\n",
    "                steps = ' '.join([f\"{char} → {alphabet[(alphabet.index(char) + k) % alphabet_size]}\" \n",
    "                                  if char in alphabet else char for char in name])\n",
    "                show(f\"3. Βήματα: {steps}\")\n",
    "                show(f\"4. Το αποτέλεσμα είναι: **{correct_answer}**.\")\n",
    "            elif action == 'Αποκρυπτογράφηση':\n",
    "                show(\"Διαδικασία για Αποκρυπτογράφηση:\")\n",
    "                show(f\"1. Ξεκινάμε με το κρυπτογραφημένο όνομα: {name}.\")\n",
    "                show(f\"2. Μετακινούμε κάθε γράμμα κατά {k} θέσεις προς τα πίσω.\")\n",
    "                steps = ' '.join([f\"{char} → {alphabet[(alphabet.index(char) - k) % alphabet_size]}\" \n",
    "                                  if char in alphabet else char for char in name])\n",
    "                show(f\"3. Βήματα: {steps}\")\n",
    "                show(f\"4. Το αποτέλεσμα είναι: {correct_answer}.\")\n",
    "    else:\n",
    "        show(\"Υποβάλετε την απάντησή σας όταν είστε έτοιμοι.\")\n"
   ]
  },
  {
   "cell_type": "code",
   "execution_count": 9,
   "metadata": {},
   "outputs": [
    {
     "data": {
      "application/vnd.jupyter.widget-view+json": {
       "model_id": "8dc757f3260b42faa2fcb935f8e2ab54",
       "version_major": 2,
       "version_minor": 0
      },
      "text/plain": [
       "Interactive function <function caesar_cipher at 0x6ffd4c85a200> with 5 widgets\n",
       "  name: TransformText(value='ΘΕ…"
      ]
     },
     "metadata": {},
     "output_type": "display_data"
    }
   ],
   "source": [
    "#Διαδραστική Εφαρμογή του αλγορίθμου του Καισαρα για Κρυπτογράφηση και Αποκρυπτογράφηση \n",
    "#Τα παιδια επιλέγουν τα ονόματά τους-Εισαγωγή στα ελληνικά\n",
    "@interact\n",
    "def caesar_cipher(\n",
    "    name=input_box(default=\"ΘΕΟΔΩΡΑ\", label=\"Εισάγετε το όνομά σας (κεφαλαία):\", type=str),\n",
    "    k=slider(1, 23, 1, default=3, label=\"Επιλέξτε το κλειδί (k):\"),\n",
    "    action=selector(['Κρυπτογράφηση', 'Αποκρυπτογράφηση'], label=\"Επιλέξτε ενέργεια:\"),\n",
    "    student_answer=input_box(default=\"\", label=\"Γράψτε την απάντησή σας:\", type=str),\n",
    "    confirm=selector(['Όχι', 'Ναι'], label=\"Θέλετε να υποβάλετε την απάντησή σας;\")\n",
    "):\n",
    "    # Ελληνικό αλφάβητο\n",
    "    alphabet = 'ΑΒΓΔΕΖΗΘΙΚΛΜΝΞΟΠΡΣΤΥΦΧΨΩ'\n",
    "    alphabet_size = len(alphabet)\n",
    "    \n",
    "    # Μετατροπή εισόδου σε κεφαλαία\n",
    "    name = str(name).strip().upper()\n",
    "    student_answer = str(student_answer).strip().upper()\n",
    "    \n",
    "    # Εμφάνιση των labels στο output\n",
    "    show(\"Εισάγετε το όνομά σας (κεφαλαία):\")\n",
    "    show(f\"Όνομα: {name}\")\n",
    "    show(\"Επιλέξτε το κλειδί (k):\")\n",
    "    show(f\"Κλειδί: {k}\")\n",
    "    show(\"Επιλέξτε ενέργεια:\")\n",
    "    show(f\"Ενέργεια: {action}\")\n",
    "    show(\"Γράψτε την απάντησή σας:\")\n",
    "    show(f\"Απάντηση μαθητή: {student_answer}\")\n",
    "    \n",
    "    # Υπολογισμός της σωστής απάντησης\n",
    "    if action == 'Κρυπτογράφηση':\n",
    "        correct_answer = ''.join(\n",
    "            [alphabet[(alphabet.index(char) + k) % alphabet_size] if char in alphabet else char for char in name]\n",
    "        )\n",
    "    elif action == 'Αποκρυπτογράφηση':\n",
    "        correct_answer = ''.join(\n",
    "            [alphabet[(alphabet.index(char) - k) % alphabet_size] if char in alphabet else char for char in name]\n",
    "        )\n",
    "    \n",
    "    # Έλεγχος αν ο μαθητής έχει επιβεβαιώσει την υποβολή\n",
    "    if confirm == 'Ναι':\n",
    "        # Έλεγχος αν η απάντηση είναι σωστή\n",
    "        if student_answer == correct_answer:\n",
    "            show(f\"Σωστά! Η απάντησή σας **{student_answer}** είναι σωστή!\")\n",
    "        else:\n",
    "            show(f\"Λάθος. Η σωστή απάντηση είναι: **{correct_answer}**.\")\n",
    "            \n",
    "            # Παροχή ανατροφοδότησης\n",
    "            if action == 'Κρυπτογράφηση':\n",
    "                show(\"Διαδικασία για Κρυπτογράφηση:\")\n",
    "                show(f\"1. Ξεκινάμε με το όνομα: {name}.\")\n",
    "                show(f\"2. Μετακινούμε κάθε γράμμα κατά {k} θέσεις προς τα εμπρός.\")\n",
    "                steps = ' '.join([f\"{char} → {alphabet[(alphabet.index(char) + k) % alphabet_size]}\" \n",
    "                                  if char in alphabet else char for char in name])\n",
    "                show(f\"3. Βήματα: {steps}\")\n",
    "                show(f\"4. Το αποτέλεσμα είναι: **{correct_answer}**.\")\n",
    "            elif action == 'Αποκρυπτογράφηση':\n",
    "                show(\"Διαδικασία για Αποκρυπτογράφηση:\")\n",
    "                show(f\"1. Ξεκινάμε με το κρυπτογραφημένο όνομα: {name}.\")\n",
    "                show(f\"2. Μετακινούμε κάθε γράμμα κατά {k} θέσεις προς τα πίσω.\")\n",
    "                steps = ' '.join([f\"{char} → {alphabet[(alphabet.index(char) - k) % alphabet_size]}\" \n",
    "                                  if char in alphabet else char for char in name])\n",
    "                show(f\"3. Βήματα: {steps}\")\n",
    "                show(f\"4. Το αποτέλεσμα είναι: {correct_answer}.\")\n",
    "    else:\n",
    "        show(\"Υποβάλετε την απάντησή σας όταν είστε έτοιμοι.\")\n"
   ]
  },
  {
   "cell_type": "code",
   "execution_count": 10,
   "metadata": {},
   "outputs": [
    {
     "data": {
      "application/vnd.jupyter.widget-view+json": {
       "model_id": "f1a75a539a8846deb1bce41b78b8e45a",
       "version_major": 2,
       "version_minor": 0
      },
      "text/plain": [
       "Interactive function <function caesar_cipher at 0x6ffd4c7fe0e0> with 5 widgets\n",
       "  name: TransformText(value='TH…"
      ]
     },
     "metadata": {},
     "output_type": "display_data"
    }
   ],
   "source": [
    "#Διαδραστική Εφαρμογή του αλγορίθμου του Καισαρα για Κρυπτογράφηση και Αποκρυπτογράφηση \n",
    "#Τα παιδια επιλέγουν τα ονόματά τους-Εισαγωγή στα αγγλικά ή/και στα ελληνικά\n",
    "@interact\n",
    "def caesar_cipher(\n",
    "    name=input_box(default=\"THEODORA\", label=\"Εισάγετε το όνομά σας (κεφαλαία):\", type=str),\n",
    "    k=slider(1, 25, 1, default=3, label=\"Επιλέξτε το κλειδί (k):\"),\n",
    "    action=selector(['Κρυπτογράφηση', 'Αποκρυπτογράφηση'], label=\"Επιλέξτε ενέργεια:\"),\n",
    "    student_answer=input_box(default=\"\", label=\"Γράψτε την απάντησή σας:\", type=str),\n",
    "    confirm=selector(['Όχι', 'Ναι'], label=\"Θέλετε να υποβάλετε την απάντησή σας;\")\n",
    "):\n",
    "    # Ελληνικό και Αγγλικό αλφάβητο\n",
    "    greek_alphabet = 'ΑΒΓΔΕΖΗΘΙΚΛΜΝΞΟΠΡΣΤΥΦΧΨΩ'\n",
    "    english_alphabet = 'ABCDEFGHIJKLMNOPQRSTUVWXYZ'\n",
    "    greek_size = len(greek_alphabet)\n",
    "    english_size = len(english_alphabet)\n",
    "    \n",
    "    # Ανίχνευση γλώσσας βάσει του πρώτου γράμματος\n",
    "    if name.upper()[0] in greek_alphabet:\n",
    "        alphabet = greek_alphabet\n",
    "        alphabet_size = greek_size\n",
    "        language = \"Ελληνικό\"\n",
    "    else:\n",
    "        alphabet = english_alphabet\n",
    "        alphabet_size = english_size\n",
    "        language = \"Αγγλικό\"\n",
    "    \n",
    "    # Μετατροπή εισόδου σε κεφαλαία\n",
    "    name = str(name).strip().upper()\n",
    "    student_answer = str(student_answer).strip().upper()\n",
    "    \n",
    "    # Εμφάνιση των labels στο output\n",
    "    show(f\"Εισάγετε το όνομά σας ({language} αλφάβητο):\")\n",
    "    show(f\"Όνομα: **{name}**\")\n",
    "    show(\"Επιλέξτε το κλειδί (k):\")\n",
    "    show(f\"Κλειδί: **{k}**\")\n",
    "    show(\"Επιλέξτε ενέργεια:\")\n",
    "    show(f\"Ενέργεια: **{action}**\")\n",
    "    show(\"Γράψτε την απάντησή σας:\")\n",
    "    show(f\"Απάντηση μαθητή: **{student_answer}**\")\n",
    "    \n",
    "    # Υπολογισμός της σωστής απάντησης\n",
    "    if action == 'Κρυπτογράφηση':\n",
    "        correct_answer = ''.join(\n",
    "            [alphabet[(alphabet.index(char) + k) % alphabet_size] if char in alphabet else char for char in name]\n",
    "        )\n",
    "    elif action == 'Αποκρυπτογράφηση':\n",
    "        correct_answer = ''.join(\n",
    "            [alphabet[(alphabet.index(char) - k) % alphabet_size] if char in alphabet else char for char in name]\n",
    "        )\n",
    "    \n",
    "    # Έλεγχος αν ο μαθητής έχει επιβεβαιώσει την υποβολή\n",
    "    if confirm == 'Ναι':\n",
    "        # Έλεγχος αν η απάντηση είναι σωστή\n",
    "        if student_answer == correct_answer:\n",
    "            show(f\"Σωστά! Η απάντησή σας **{student_answer}** είναι σωστή!\")\n",
    "        else:\n",
    "            show(f\"Λάθος. Η σωστή απάντηση είναι: **{correct_answer}**.\")\n",
    "            \n",
    "            # Παροχή ανατροφοδότησης\n",
    "            if action == 'Κρυπτογράφηση':\n",
    "                show(\"Διαδικασία για Κρυπτογράφηση:\")\n",
    "                show(f\"1. Ξεκινάμε με το όνομα: {name}.\")\n",
    "                show(f\"2. Μετακινούμε κάθε γράμμα κατά {k} θέσεις προς τα εμπρός.\")\n",
    "                steps = ' '.join([f\"{char} → {alphabet[(alphabet.index(char) + k) % alphabet_size]}\" \n",
    "                                  if char in alphabet else char for char in name])\n",
    "                show(f\"3. Βήματα: {steps}\")\n",
    "                show(f\"4. Το αποτέλεσμα είναι: **{correct_answer}**.\")\n",
    "            elif action == 'Αποκρυπτογράφηση':\n",
    "                show(\"Διαδικασία για Αποκρυπτογράφηση:\")\n",
    "                show(f\"1. Ξεκινάμε με το κρυπτογραφημένο όνομα: {name}.\")\n",
    "                show(f\"2. Μετακινούμε κάθε γράμμα κατά {k} θέσεις προς τα πίσω.\")\n",
    "                steps = ' '.join([f\"{char} → {alphabet[(alphabet.index(char) - k) % alphabet_size]}\" \n",
    "                                  if char in alphabet else char for char in name])\n",
    "                show(f\"3. Βήματα: {steps}\")\n",
    "                show(f\"4. Το αποτέλεσμα είναι: {correct_answer}.\")\n",
    "    else:\n",
    "        show(\"Υποβάλετε την απάντησή σας όταν είστε έτοιμοι.\")\n",
    "\n"
   ]
  },
  {
   "cell_type": "code",
   "execution_count": null,
   "metadata": {},
   "outputs": [],
   "source": []
  }
 ],
 "metadata": {
  "kernelspec": {
   "display_name": "SageMath 9.3",
   "language": "sage",
   "name": "sagemath"
  },
  "language_info": {
   "codemirror_mode": {
    "name": "ipython",
    "version": 3
   },
   "file_extension": ".py",
   "mimetype": "text/x-python",
   "name": "python",
   "nbconvert_exporter": "python",
   "pygments_lexer": "ipython3",
   "version": "3.7.10"
  }
 },
 "nbformat": 4,
 "nbformat_minor": 4
}
