{
 "cells": [
  {
   "cell_type": "code",
   "execution_count": 2,
   "metadata": {},
   "outputs": [],
   "source": [
    "#Βιβλιοθήκες\n",
    "from sage.interacts.library import interact\n",
    "from ipywidgets import widgets, Output"
   ]
  },
  {
   "cell_type": "code",
   "execution_count": 3,
   "metadata": {},
   "outputs": [
    {
     "data": {
      "application/vnd.jupyter.widget-view+json": {
       "model_id": "1e9504c3a02041278b92b2691e7e0a36",
       "version_major": 2,
       "version_minor": 0
      },
      "text/plain": [
       "Interactive function <function modular_arithmetic_circular_structure at 0x6ffd4c7aa440> with 2 widgets\n",
       "  n: Tr…"
      ]
     },
     "metadata": {},
     "output_type": "display_data"
    }
   ],
   "source": [
    "#Εισαγωγικό μάθημα-παράδειγμα για την κυκλική δομή\n",
    "@interact\n",
    "def modular_arithmetic_circular_structure(n=slider(2, 10, 1, default=5, label='n (Μέγεθος κυκλικής ομάδας)'), \n",
    "                                           value=slider(0, 50, 1, default=4, label='Αριθμός')):\n",
    "    # Εισαγωγή και εξήγηση της κυκλικής δομής\n",
    "    show(\"Τι είναι η Κυκλική Δομή στο \\\\(\\\\mathbb{Z}_n\\\\);\")\n",
    "    show(\"Στο σύστημα \\\\(\\\\mathbb{Z}_n\\\\), οι αριθμοί \\\\(0, 1, 2, \\\\dots, n-1\\\\) δημιουργούν έναν κύκλο.\")\n",
    "    show(\"Κάθε αριθμός αντικαθίσταται από το υπόλοιπό του κατά τη διαίρεση με το \\\\(n\\\\).\")\n",
    "    show(\"Για παράδειγμα, στο \\\\(\\\\mathbb{Z}_5\\\\):\")\n",
    "    show(\" - \\\\(6 \\\\equiv 1 \\\\pmod{5}\\\\), επειδή το υπόλοιπο του \\\\(6\\\\) όταν διαιρείται με το \\\\(5\\\\) είναι \\\\(1\\\\).\")\n",
    "    show(\" - \\\\(7 \\\\equiv 2 \\\\pmod{5}\\\\), κ.ο.κ.\")\n",
    "    show(\"Αυτή η ιδιότητα δημιουργεί μια κυκλική συμπεριφορά, όπου οι αριθμοί επαναλαμβάνονται μόλις ξεπεραστεί το \\\\(n-1\\\\).\")\n",
    "    show(\"Ας δούμε ένα παράδειγμα παρακάτω:\")\n",
    "\n",
    "    # Υπολογισμός του υπολοίπου\n",
    "    remainder = value % n\n",
    "    show(f\"Ο αριθμός {value} στο σύστημα mod {n} ισοδυναμεί με {remainder}.\")\n",
    "    \n",
    " \n",
    "\n"
   ]
  },
  {
   "cell_type": "code",
   "execution_count": 5,
   "metadata": {
    "scrolled": true
   },
   "outputs": [
    {
     "data": {
      "application/vnd.jupyter.widget-view+json": {
       "model_id": "c695d04a6008453a9a872b3102530376",
       "version_major": 2,
       "version_minor": 0
      },
      "text/plain": [
       "Interactive function <function modular_arithmetic_interactive at 0x6ffd4c8707a0> with 4 widgets\n",
       "  n: Transform…"
      ]
     },
     "metadata": {},
     "output_type": "display_data"
    }
   ],
   "source": [
    "# (non-valid, not applicable)\n",
    "# Παράδειγμα για κυκλική ομάδα. Δεν χρησιμοποιήθηκε γιατί βγάζει αποτελέσματα ταυτόχρονα με την επιλογή των παραμέτρων\n",
    "@interact\n",
    "def modular_arithmetic_interactive(\n",
    "    n=slider(2, 10, 1, default=5, label='n (Μέγεθος κυκλικού συστήματος)'), \n",
    "    a=slider(0, 50, 1, default=4, label='Πρώτος αριθμός (a)'), \n",
    "    b=slider(0, 50, 1, default=3, label='Δεύτερος αριθμός (b)'), \n",
    "    answer=input_box(0, label='Η απάντησή σας:')\n",
    "):\n",
    "    # Υπολογισμός σωστής απάντησης\n",
    "    correct_answer = (a + b) % n\n",
    "    \n",
    "    # Ανατροφοδότηση με βάση την απάντηση\n",
    "    if answer == correct_answer:\n",
    "        feedback = f\"Συγχαρητήρια! Η απάντησή σας {answer} είναι σωστή! 🎉\"\n",
    "    else:\n",
    "        feedback = (\n",
    "            f\"Λάθος! Το σωστό αποτέλεσμα είναι {correct_answer}. \"\n",
    "            f\"Ας δούμε γιατί: Το άθροισμα είναι {a} + {b} = {a + b}, και \"\n",
    "            f\"το υπόλοιπο της διαίρεσης με {n} είναι {correct_answer}.\"\n",
    "        )\n",
    "    \n",
    "    # Παρουσίαση της πράξης και ανατροφοδότησης\n",
    "    show(f\"Εργάζεστε στο κυκλικό σύστημα \\\\(\\\\mathbb{{Z}}_{n}\\\\).\")\n",
    "    show(f\"Πράξη: \\\\({a} + {b}\\\\) στο \\\\(\\\\mathbb{{Z}}_{n}\\\\).\")\n",
    "    show(feedback)\n"
   ]
  },
  {
   "cell_type": "code",
   "execution_count": 18,
   "metadata": {},
   "outputs": [
    {
     "data": {
      "application/vnd.jupyter.widget-view+json": {
       "model_id": "a5d391e10bb54bad813d286b0faa1357",
       "version_major": 2,
       "version_minor": 0
      },
      "text/plain": [
       "Interactive function <function modular_arithmetic_interactive at 0x6ffd4c7d5f80> with 5 widgets\n",
       "  n: Transform…"
      ]
     },
     "metadata": {},
     "output_type": "display_data"
    }
   ],
   "source": [
    "# (valid,applicable)\n",
    "# Παράδειγμα για κυκλική ομάδα, μόνο για πρόσθεση.Βγάζει αποτελέσματα αφου ο μαθητής έχει επιλέξει παραμέτρους και εχει αποφασίσει την απάντηση\n",
    "@interact\n",
    "def modular_arithmetic_interactive(\n",
    "    n=slider(2, 10, 1, default=5, label='n (Μέγεθος κυκλικού συστήματος)'), \n",
    "    a=slider(0, 50, 1, default=4, label='Πρώτος αριθμός (a)'), \n",
    "    b=slider(0, 50, 1, default=3, label='Δεύτερος αριθμός (b)'), \n",
    "    answer=input_box(0, label='Η απάντησή σας:'),\n",
    "    confirm=checkbox(False, label=\"Επιβεβαίωση απάντησης\") # Confirmation checkbox\n",
    "):\n",
    "    if confirm:\n",
    "        # Παρουσίαση εισαγωγικών πληροφοριών\n",
    "        show(f\"Εργάζεστε στο κυκλικό σύστημα \\\\(\\\\mathbb{{Z}}_{n}\\\\).\")\n",
    "        show(f\"Πράξη: \\\\({a} + {b}\\\\) στο \\\\(\\\\mathbb{{Z}}_{n}\\\\).\")\n",
    "\n",
    "        # Υπολογισμός σωστής απάντησης\n",
    "        correct_answer = (a + b) % n\n",
    "\n",
    "        # Ανατροφοδότηση\n",
    "        if answer == correct_answer:\n",
    "            feedback = f\"Συγχαρητήρια! Η απάντησή σας {answer} είναι σωστή! 🎉\"\n",
    "        else:\n",
    "            feedback = (\n",
    "                f\"Λάθος! Το σωστό αποτέλεσμα είναι {correct_answer}. \"\n",
    "                f\"Ας δούμε γιατί: Το άθροισμα είναι {a} + {b} = {a + b}, και \"\n",
    "                f\"το υπόλοιπο της διαίρεσης με {n} είναι {correct_answer}.\"\n",
    "            )\n",
    "        \n",
    "        # Παρουσίαση ανατροφοδότησης\n",
    "        show(feedback)\n",
    "    else:\n",
    "        show(\"Παρακαλώ επιβεβαιώστε την απάντησή σας για να δείτε το αποτέλεσμα.\")\n",
    "\n"
   ]
  },
  {
   "cell_type": "code",
   "execution_count": 30,
   "metadata": {},
   "outputs": [
    {
     "data": {
      "application/vnd.jupyter.widget-view+json": {
       "model_id": "f9b18f0a294749fcbe3009f9790c694a",
       "version_major": 2,
       "version_minor": 0
      },
      "text/plain": [
       "Interactive function <function modular_arithmetic_interactive at 0x6ffd4c62a950> with 6 widgets\n",
       "  n: Transform…"
      ]
     },
     "metadata": {},
     "output_type": "display_data"
    }
   ],
   "source": [
    "# (valid,applicable)\n",
    "# Παράδειγμα για κυκλική ομάδα, μόνο για  και για τις 4 πράξεις. Υπάρχει και η περίπτωση αδύνατης διάιρεσης με το 0\n",
    "# Βγάζει αποτελέσματα αφου ο μαθητής έχει επιλέξει παραμέτρους και εχει αποφασίσει την απάντηση\n",
    "@interact\n",
    "def modular_arithmetic_interactive(\n",
    "    n=slider(2, 10, 1, default=5, label='n (Μέγεθος Κυκλικής Ομάδας)'), \n",
    "    a=slider(0, 50, 1, default=4, label='(a) Πρώτος αριθμός'), \n",
    "    b=slider(0, 50, 1, default=3, label='(b) Δεύτερος αριθμός'), \n",
    "    operation=selector(['Πρόσθεση (+)', 'Αφαίρεση (−)', 'Πολλαπλασιασμός (×)', 'Διαίρεση (÷)'], label='Επιλέξτε πράξη'),\n",
    "    answer=input_box(0, label='Η απάντησή σας:'),\n",
    "    confirm=checkbox(False, label=\"Επιβεβαίωση απάντησης\")\n",
    "):\n",
    "    # Συμβολισμός για τις πράξεις\n",
    "    operation_symbols = {\n",
    "        'Πρόσθεση (+)': '+',\n",
    "        'Αφαίρεση (−)': '-',\n",
    "        'Πολλαπλασιασμός (×)': '×',\n",
    "        'Διαίρεση (÷)': '÷'\n",
    "    }\n",
    "    symbol = operation_symbols[operation]\n",
    "    \n",
    "    # Παρουσίαση εισαγωγικών πληροφοριών\n",
    "    show(f\"Καλώς ήρθατε στην κυκλική ομάδα \\\\(\\\\mathbb{{Z}}_{n}\\\\).\")\n",
    "    show(f\"Πράξη: \\\\({a} \\\\; {symbol} \\\\; {b}\\\\) στο \\\\(\\\\mathbb{{Z}}_{n}\\\\).\")\n",
    "\n",
    "    if confirm:\n",
    "        # Αρχικοποίηση της σωστής απάντησης\n",
    "        correct_answer = None\n",
    "\n",
    "        # Υπολογισμός σωστής απάντησης\n",
    "        if operation == 'Πρόσθεση (+)':\n",
    "            correct_answer = (a + b) % n\n",
    "        elif operation == 'Αφαίρεση (−)':\n",
    "            correct_answer = (a - b) % n\n",
    "        elif operation == 'Πολλαπλασιασμός (×)':\n",
    "            correct_answer = (a * b) % n\n",
    "        elif operation == 'Διαίρεση (÷)':\n",
    "            if b == 0 or gcd(b, n) != 1:  # Έλεγχος αδυναμίας διαίρεσης\n",
    "                correct_answer = None\n",
    "            else:\n",
    "                correct_answer = (a * inverse_mod(b, n)) % n\n",
    "\n",
    "        # Ανατροφοδότηση\n",
    "        if correct_answer is None:\n",
    "            if operation == 'Διαίρεση (÷)':\n",
    "                feedback = (\n",
    "                    \"Η διαίρεση δεν είναι δυνατή στο \\\\(\\\\mathbb{{Z}}_{n}\\\\) \"\n",
    "                    f\"για το \\\\(b = {b}\\\\). Το \\\\(b\\\\) πρέπει να είναι διαφορετικό του μηδενός και ανάστροφο στοιχείο του \\\\(n\\\\).\"\n",
    "                )\n",
    "            else:\n",
    "                feedback = \"Υπήρξε σφάλμα στον υπολογισμό. Ελέγξτε τα δεδομένα σας.\"\n",
    "        elif answer == correct_answer:\n",
    "            feedback = f\"Συγχαρητήρια! Η απάντησή σας {answer} είναι σωστή! 🎉\"\n",
    "        else:\n",
    "            feedback = (\n",
    "                f\"Λάθος! Το σωστό αποτέλεσμα είναι {correct_answer}. \"\n",
    "                f\"Ας δούμε γιατί: Η πράξη \\\\({a} \\\\; {symbol} \\\\; {b}\\\\) στο \\\\(\\\\mathbb{{Z}}_{n}\\\\) \"\n",
    "                f\"δίνει το υπόλοιπο {correct_answer}.\"\n",
    "            )\n",
    "\n",
    "        # Παρουσίαση ανατροφοδότησης\n",
    "        show(feedback)\n",
    "    else:\n",
    "        show(\"Παρακαλώ επιβεβαιώστε την απάντησή σας για να δείτε το αποτέλεσμα.\")\n"
   ]
  },
  {
   "cell_type": "markdown",
   "metadata": {},
   "source": [
    "Παρακάτω παρουσιάζονται επιπλεον παραδείγματα για την επεξήγηση της Κυκλικότητας.\n",
    "1. Ρολόι\n",
    "2. Μέρες της Εβδομάδας"
   ]
  },
  {
   "cell_type": "code",
   "execution_count": 8,
   "metadata": {},
   "outputs": [
    {
     "data": {
      "application/vnd.jupyter.widget-view+json": {
       "model_id": "c92c9c90db19437ca03b2a832e23f4a8",
       "version_major": 2,
       "version_minor": 0
      },
      "text/plain": [
       "Interactive function <function clock_modular_arithmetic at 0x6ffd4c6dce60> with 2 widgets\n",
       "  current_hour: Tran…"
      ]
     },
     "metadata": {},
     "output_type": "display_data"
    }
   ],
   "source": [
    "# Επεξήγηση της έννοιας της κυκλικότητας με τη χρήση του ρολογιού. \n",
    "# Θα γίνεται επαναφορά των ωρών στο 0 ή στο 12 μόλις φτάσουν στο 24,\n",
    "#δίνοντας έμφαση στην κυκλική φύση του 24ωρου συστήματος.\n",
    "@interact\n",
    "def clock_modular_arithmetic(\n",
    "    current_hour=slider(0, 23, 1, default=23, label='Τρέχουσα ώρα (0-23)      '), \n",
    "    add_hours=slider(0, 12, 1, default=2, label='Προσθέστε ώρες        ')\n",
    "):\n",
    "    # Υπολογισμός της νέας ώρας\n",
    "    new_hour = (current_hour + add_hours) % 24\n",
    "    \n",
    "    # Εμφάνιση των αποτελεσμάτων\n",
    "    show(f\"Η τρέχουσα ώρα είναι: {current_hour}:00\")\n",
    "    show(f\"Προσθέτουμε {add_hours} ώρες.\")\n",
    "    show(f\"Η νέα ώρα είναι: {new_hour}:00\")\n",
    "    \n",
    "    # Εξήγηση της κυκλικότητας\n",
    "    show(\"**Εξήγηση:**\")\n",
    "    show(\"Στο 24ωρο σύστημα, όταν η ώρα ξεπεράσει το 23, επιστρέφουμε στο 0.\")\n",
    "    show(f\"Παράδειγμα: {current_hour}:00 + {add_hours} ώρες ≡ {new_hour}:00 (mod 24)\")\n",
    "    show(\"Αυτό συμβαίνει επειδή χρησιμοποιούμε το υπόλοιπο της διαίρεσης με το 24 για να βρούμε τη νέα ώρα.\")\n",
    "    \n",
    "    # Οπτική παρουσίαση των ωρών σε κυκλικό σύστημα\n",
    "    clock_circle = [f\"{i}:00\" for i in range(24)]\n",
    "    show(f\"24ωρη κυκλική δομή: {clock_circle}\")\n",
    "\n",
    "\n"
   ]
  },
  {
   "cell_type": "code",
   "execution_count": 9,
   "metadata": {},
   "outputs": [
    {
     "data": {
      "application/vnd.jupyter.widget-view+json": {
       "model_id": "e98ee7c6faaf46fc91a3fa6aa85c8f25",
       "version_major": 2,
       "version_minor": 0
      },
      "text/plain": [
       "Interactive function <function days_of_week_circularity at 0x6ffd4c6ea8c0> with 2 widgets\n",
       "  current_day: Dropd…"
      ]
     },
     "metadata": {},
     "output_type": "display_data"
    }
   ],
   "source": [
    "#Επεξήγηση έννοιας της κυκλικότητας με θέμα τις ημέρες της εβδομάδας\n",
    "@interact\n",
    "def days_of_week_circularity(\n",
    "    current_day=selector(['Δευτέρα', 'Τρίτη', 'Τετάρτη', 'Πέμπτη', 'Παρασκευή', 'Σάββατο', 'Κυριακή'], \n",
    "                         label='Σημερινή ημέρα:'),\n",
    "    add_days=slider(0, 30, 1, default=3, label='Προσθέστε ημέρες:')\n",
    "):\n",
    "    # Λίστα ημερών\n",
    "    days_of_week = ['Δευτέρα', 'Τρίτη', 'Τετάρτη', 'Πέμπτη', 'Παρασκευή', 'Σάββατο', 'Κυριακή']\n",
    "    \n",
    "    # Βρες την τρέχουσα ημέρα\n",
    "    current_index = days_of_week.index(current_day)\n",
    "    \n",
    "    # Υπολόγισε τη νέα ημέρα με mod 7\n",
    "    new_index = (current_index + add_days) % 7\n",
    "    new_day = days_of_week[new_index]\n",
    "    \n",
    "    # Εμφάνιση αποτελεσμάτων\n",
    "    show(f\"Σήμερα είναι: **{current_day}**\")\n",
    "    show(f\"Προσθέτουμε **{add_days} ημέρες**.\")\n",
    "    show(f\"Η νέα ημέρα είναι: **{new_day}**\")\n",
    "    \n",
    "    # Εξήγηση κυκλικότητας\n",
    "    show(\"**Εξήγηση της κυκλικότητας:**\")\n",
    "    show(\"Οι ημέρες της εβδομάδας σχηματίζουν έναν κύκλο: Δευτέρα, Τρίτη, Τετάρτη, Πέμπτη, Παρασκευή, Σάββατο, Κυριακή.\")\n",
    "    show(\"Όταν φτάνουμε στο τέλος (Κυριακή), επιστρέφουμε στην αρχή (Δευτέρα).\")\n",
    "    show(f\"Η πράξη γίνεται ως εξής: \\\\(({current_index} + {add_days}) \\\\mod 7 = {new_index}\\\\), \"\n",
    "         f\"οπότε καταλήγουμε στην ημέρα **{new_day}**.\")\n",
    "    \n",
    "    # Παρουσίαση κυκλικής δομής\n",
    "    show(\"**Κυκλική Δομή των Ημερών:**\")\n",
    "    show(f\"{days_of_week}\")\n"
   ]
  },
  {
   "cell_type": "code",
   "execution_count": null,
   "metadata": {},
   "outputs": [],
   "source": []
  }
 ],
 "metadata": {
  "kernelspec": {
   "display_name": "SageMath 9.3",
   "language": "sage",
   "name": "sagemath"
  },
  "language_info": {
   "codemirror_mode": {
    "name": "ipython",
    "version": 3
   },
   "file_extension": ".py",
   "mimetype": "text/x-python",
   "name": "python",
   "nbconvert_exporter": "python",
   "pygments_lexer": "ipython3",
   "version": "3.7.10"
  }
 },
 "nbformat": 4,
 "nbformat_minor": 4
}
