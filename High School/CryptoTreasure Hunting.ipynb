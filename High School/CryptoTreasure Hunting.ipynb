{
 "cells": [
  {
   "cell_type": "markdown",
   "metadata": {},
   "source": [
    "## Κρυπτογραφική Αποστολή – “Κυνήγι Κρυπτο-Θησαυρού”\n",
    "## Συνδυαστικό Project – Τελική Αξιολόγηση της Ενότητας"
   ]
  },
  {
   "cell_type": "markdown",
   "metadata": {},
   "source": [
    "### Σκοπός:\n",
    "Οι μαθητές εφαρμόζουν όλες τις μεθόδους που έμαθαν (π.χ. Caesar, Vigenère, μικρό RSA) σε ένα παιχνίδι συνεργασίας και επίλυσης γρίφων, με τη βοήθεια του SageMath.\n",
    "\n",
    "### Περιγραφή:\n",
    "Οι μαθητές χωρίζονται σε ομάδες (Α, Β, Γ, …).\n",
    "\n",
    "Κάθε ομάδα δημιουργεί μια \"κρυπτογραφημένη αποστολή\" (μικρό μήνυμα) με μέθοδο επιλογής (Caesar, Vigenère, μικρό RSA κ.λπ.).\n",
    "\n",
    "Συνοδεύει το μήνυμα με ενδείξεις ή κλειδιά που θα βοηθήσουν στην αποκρυπτογράφηση.\n",
    "\n",
    "Η αποστολή δίνεται στην επόμενη ομάδα, που καλείται να τη σπάσει, να ανακτήσει το μήνυμα και να προχωρήσει στην επόμενη πρόκληση.\n",
    "\n",
    "Όλες οι ομάδες χρησιμοποιούν εργαλεία SageMath για ανάλυση, δοκιμές και αποκρυπτογράφηση.\n",
    "\n",
    "Νικήτρια η ομάδα που θα φτάσει πρώτη στο τέλος του “κρυπτο-θησαυρού”."
   ]
  },
  {
   "cell_type": "markdown",
   "metadata": {},
   "source": [
    "### Παράδειγμα Εφαρμογής (Caesar, Vigenère, RSA)"
   ]
  },
  {
   "cell_type": "code",
   "execution_count": 6,
   "metadata": {},
   "outputs": [
    {
     "name": "stdout",
     "output_type": "stream",
     "text": [
      "Κρυπτογράφημα: PHHWXVDWGDZQ\n",
      "Στοιχείο: Caesar με μετατόπιση κάτω του 10\n"
     ]
    }
   ],
   "source": [
    "# Ομάδα Α δημιουργεί μια αποστολή:-Caesar Cipher: μετατόπιση κατά 3\n",
    "plaintext = \"MEETUSATDAWN\"\n",
    "key = 3\n",
    "\n",
    "cipher = ''.join([chr((ord(c) - 65 + key) % 26 + 65) for c in plaintext])\n",
    "print(f\"Κρυπτογράφημα: {cipher}\")  # Output: PHHWXVDWGDZQ\n",
    "print(\"Στοιχείο: Caesar με μετατόπιση κάτω του 10\")\n"
   ]
  },
  {
   "cell_type": "code",
   "execution_count": 2,
   "metadata": {},
   "outputs": [
    {
     "name": "stdout",
     "output_type": "stream",
     "text": [
      "🔎 Brute Force για Caesar:\n",
      "Key  1: OGGVWUCVFCYP\n",
      "Key  2: NFFUVTBUEBXO\n",
      "Key  3: MEETUSATDAWN\n",
      "Key  4: LDDSTRZSCZVM\n",
      "Key  5: KCCRSQYRBYUL\n",
      "Key  6: JBBQRPXQAXTK\n",
      "Key  7: IAAPQOWPZWSJ\n",
      "Key  8: HZZOPNVOYVRI\n",
      "Key  9: GYYNOMUNXUQH\n",
      "Key 10: FXXMNLTMWTPG\n",
      "Key 11: EWWLMKSLVSOF\n",
      "Key 12: DVVKLJRKURNE\n",
      "Key 13: CUUJKIQJTQMD\n",
      "Key 14: BTTIJHPISPLC\n",
      "Key 15: ASSHIGOHROKB\n",
      "Key 16: ZRRGHFNGQNJA\n",
      "Key 17: YQQFGEMFPMIZ\n",
      "Key 18: XPPEFDLEOLHY\n",
      "Key 19: WOODECKDNKGX\n",
      "Key 20: VNNCDBJCMJFW\n",
      "Key 21: UMMBCAIBLIEV\n",
      "Key 22: TLLABZHAKHDU\n",
      "Key 23: SKKZAYGZJGCT\n",
      "Key 24: RJJYZXFYIFBS\n",
      "Key 25: QIIXYWEXHEAR\n"
     ]
    }
   ],
   "source": [
    "# Ομάδα Β την αποκρυπτογραφεί με brute force στο SageMath\n",
    "cipher = \"PHHWXVDWGDZQ\"\n",
    "print(\"🔎 Brute Force για Caesar:\")\n",
    "for k in range(1, 26):\n",
    "    plain = ''.join([chr((ord(c) - 65 - k) % 26 + 65) for c in cipher])\n",
    "    print(f\"Key {k:2d}: {plain}\")\n"
   ]
  },
  {
   "cell_type": "code",
   "execution_count": 7,
   "metadata": {},
   "outputs": [
    {
     "name": "stdout",
     "output_type": "stream",
     "text": [
      "Κρυπτογράφημα RSA: C = 48, με n = 143, e = 7\n",
      "Ενδειξη: p=11\n"
     ]
    }
   ],
   "source": [
    "# Επόμενη αποστολή: RSA με μικρά κλειδιά\n",
    "# Ομάδα Β κρυπτογραφεί με RSA\n",
    "p, q = 11, 13\n",
    "n = p * q\n",
    "phi = (p - 1)*(q - 1)\n",
    "e = 7\n",
    "d = inverse_mod(e, phi)\n",
    "\n",
    "M = 9  # κωδικοποίηση μηνύματος\n",
    "C = power_mod(M, e, n)\n",
    "print(f\"Κρυπτογράφημα RSA: C = {C}, με n = {n}, e = {e}\")\n",
    "print(\"Ενδειξη: p=11\")\n"
   ]
  },
  {
   "cell_type": "code",
   "execution_count": 8,
   "metadata": {},
   "outputs": [
    {
     "name": "stdout",
     "output_type": "stream",
     "text": [
      "Πρώτοι παράγοντες: 11 και 13\n",
      "Πρώτοι παράγοντες: 13 και 11\n",
      "Μήνυμα που αποκρυπτογραφήθηκε: M = 9\n"
     ]
    }
   ],
   "source": [
    "# Ομάδα Γ αποκρυπτογραφεί\n",
    "# Brute force factorization για n\n",
    "n = 143\n",
    "for i in range(2, 20):\n",
    "    if n % i == 0:\n",
    "        print(f\"Πρώτοι παράγοντες: {i} και {n//i}\")\n",
    "\n",
    "# Μόλις βρει p, q:\n",
    "p, q = 11, 13\n",
    "phi = (p - 1)*(q - 1)\n",
    "e = 7\n",
    "d = inverse_mod(e, phi)\n",
    "C = 48\n",
    "\n",
    "M = power_mod(C, d, n)\n",
    "print(f\"Μήνυμα που αποκρυπτογραφήθηκε: M = {M}\")\n"
   ]
  },
  {
   "cell_type": "code",
   "execution_count": null,
   "metadata": {},
   "outputs": [],
   "source": []
  }
 ],
 "metadata": {
  "kernelspec": {
   "display_name": "SageMath 9.3",
   "language": "sage",
   "name": "sagemath"
  },
  "language_info": {
   "codemirror_mode": {
    "name": "ipython",
    "version": 3
   },
   "file_extension": ".py",
   "mimetype": "text/x-python",
   "name": "python",
   "nbconvert_exporter": "python",
   "pygments_lexer": "ipython3",
   "version": "3.7.10"
  }
 },
 "nbformat": 4,
 "nbformat_minor": 4
}
