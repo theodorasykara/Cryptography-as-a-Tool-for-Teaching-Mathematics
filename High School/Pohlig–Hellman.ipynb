{
 "cells": [
  {
   "cell_type": "markdown",
   "metadata": {},
   "source": [
    "## Pohlig–Hellman"
   ]
  },
  {
   "cell_type": "code",
   "execution_count": 11,
   "metadata": {
    "scrolled": true
   },
   "outputs": [
    {
     "name": "stdout",
     "output_type": "stream",
     "text": [
      "Θέλουμε να βρούμε το x ώστε:\n",
      "6^x ≡ 10 mod 41\n",
      "Το 41 είναι πρώτο, και 40 = 2^3 * 5\n",
      "Χρησιμοποιούμε Pohlig–Hellman για να σπάσουμε το πρόβλημα σε μικρότερα υποπροβλήματα.\n"
     ]
    }
   ],
   "source": [
    "#Ορισμός του προβλήματος\n",
    "\n",
    "print(\"Θέλουμε να βρούμε το x ώστε:\")\n",
    "print(\"6^x ≡ 10 mod 41\")\n",
    "print(\"Το 41 είναι πρώτο, και 40 = 2^3 * 5\")\n",
    "print(\"Χρησιμοποιούμε Pohlig–Hellman για να σπάσουμε το πρόβλημα σε μικρότερα υποπροβλήματα.\")\n"
   ]
  },
  {
   "cell_type": "code",
   "execution_count": 27,
   "metadata": {},
   "outputs": [
    {
     "name": "stdout",
     "output_type": "stream",
     "text": [
      "Δοκίμασε τιμή για k (0 έως 7)\n"
     ]
    },
    {
     "data": {
      "application/vnd.jupyter.widget-view+json": {
       "model_id": "67a7b67f3b964600861d89613798d333",
       "version_major": 2,
       "version_minor": 0
      },
      "text/plain": [
       "Interactive function <function υπολογισμός_mod8 at 0x6ffd3e3bba70> with 1 widget\n",
       "  k: EvalText(value='', descr…"
      ]
     },
     "metadata": {},
     "output_type": "display_data"
    },
    {
     "data": {
      "application/vnd.jupyter.widget-view+json": {
       "model_id": "9309d77a02434a8483f657a90b0e900c",
       "version_major": 2,
       "version_minor": 0
      },
      "text/plain": [
       "Interactive function <function βοήθεια_mod8 at 0x6ffd3e3d3f80> with 1 widget\n",
       "  εμφάνισε_λύση: Checkbox(value=F…"
      ]
     },
     "metadata": {},
     "output_type": "display_data"
    }
   ],
   "source": [
    "#Υπολογισμός x mod 8 (δηλαδή για υποομάδα τάξης 8)\n",
    "# Βήμα 1: Ο μαθητής δοκιμάζει τιμή k\n",
    "print(\"Δοκίμασε τιμή για k (0 έως 7)\")\n",
    "@interact\n",
    "def υπολογισμός_mod8(k=input_box(default=\"\", label=\"k (0-7)\")):\n",
    "    try:\n",
    "        p = 41\n",
    "        g = 6\n",
    "        h = 10\n",
    "        N = p - 1\n",
    "        subgroup_order = 8  # 2^3\n",
    "        base = power_mod(g, N // subgroup_order, p)\n",
    "        target = power_mod(h, N // subgroup_order, p)\n",
    "\n",
    "        k = Integer(k)\n",
    "        candidate = power_mod(base, k, p)\n",
    "\n",
    "        print(f\"➡ Ελέγχουμε αν {base}^{k} ≡ {target} mod {p}\")\n",
    "        print(f\"➡ {base}^{k} mod {p} = {candidate}, ενώ h^{N//subgroup_order} mod {p} = {target}\")\n",
    "\n",
    "        if candidate == target:\n",
    "            show(html(f\"<b style='color:green'>✔ Σωστά!</b> Άρα x ≡ {k} mod 8\"))\n",
    "        else:\n",
    "            show(html(f\"<b style='color:red'>✘ Όχι, δεν είναι σωστό.</b> Δοκίμασε άλλη τιμή ή ζήτα βοήθεια παρακάτω.\"))\n",
    "    except:\n",
    "        show(html(\"<b style='color:red'>✘ Μη έγκυρη είσοδος.</b> Δώσε ακέραιο αριθμό από 0 έως 7.\"))\n",
    "\n",
    "# Βήμα 2: Αν θέλει βοήθεια, να δει τον σωστό τρόπο\n",
    "@interact\n",
    "def βοήθεια_mod8(εμφάνισε_λύση=False):  # προεπιλογή False\n",
    "    if εμφάνισε_λύση:\n",
    "        p = 41\n",
    "        g = 6\n",
    "        h = 10\n",
    "        N = p - 1\n",
    "        subgroup_order = 8\n",
    "        base = power_mod(g, N // subgroup_order, p)\n",
    "        target = power_mod(h, N // subgroup_order, p)\n",
    "\n",
    "        for k in range(subgroup_order):\n",
    "            if power_mod(base, k, p) == target:\n",
    "                show(html(f\"<b style='color:blue'>Ο σωστός εκθέτης είναι:</b> <b style='color:green'>x ≡ {k} mod 8</b>\"))\n",
    "                print(f\"Διότι: {base}^{k} mod {p} = {target}\")\n",
    "                break\n",
    "    else:\n",
    "        print(\"Η λύση είναι μυστική. Ενεργοποίησε το κουτάκι για να εμφανιστεί.\")\n",
    "\n"
   ]
  },
  {
   "cell_type": "code",
   "execution_count": 28,
   "metadata": {},
   "outputs": [
    {
     "name": "stdout",
     "output_type": "stream",
     "text": [
      "Δοκίμασε τιμή για k (0 έως 4)\n"
     ]
    },
    {
     "data": {
      "application/vnd.jupyter.widget-view+json": {
       "model_id": "3e32441500904898bff3ba16e322ac8b",
       "version_major": 2,
       "version_minor": 0
      },
      "text/plain": [
       "Interactive function <function υπολογισμός_mod5 at 0x6ffd3e3bb0e0> with 1 widget\n",
       "  k: EvalText(value='', descr…"
      ]
     },
     "metadata": {},
     "output_type": "display_data"
    },
    {
     "data": {
      "application/vnd.jupyter.widget-view+json": {
       "model_id": "012b3c06d7e84898a184f7e0c0a54b49",
       "version_major": 2,
       "version_minor": 0
      },
      "text/plain": [
       "Interactive function <function βοήθεια_mod5 at 0x6ffd3e3d3a70> with 1 widget\n",
       "  εμφάνισε_λύση: Checkbox(value=T…"
      ]
     },
     "metadata": {},
     "output_type": "display_data"
    }
   ],
   "source": [
    "#Υπολογισμός x mod 5 (δηλαδή για υποομάδα τάξης 5)\n",
    "# Βήμα 1: Ο μαθητής δοκιμάζει τιμές για k\n",
    "\n",
    "print(\"Δοκίμασε τιμή για k (0 έως 4)\")\n",
    "@interact\n",
    "def υπολογισμός_mod5(k=input_box(default=\"\", label=\"🔍 k (0-4):\")):\n",
    "    try:\n",
    "        p = 41\n",
    "        g = 6\n",
    "        h = 10\n",
    "        q = 5\n",
    "        N = p - 1\n",
    "\n",
    "        base = power_mod(g, N // q, p)      # g^8 mod 41\n",
    "        target = power_mod(h, N // q, p)    # h^8 mod 41\n",
    "\n",
    "        k = Integer(k)\n",
    "        candidate = power_mod(base, k, p)\n",
    "\n",
    "        print(f\"➡ Ελέγχουμε αν {base}^{k} ≡ {target} mod {p}\")\n",
    "        print(f\"➡ {base}^{k} mod {p} = {candidate}, ενώ h^{N//q} mod {p} = {target}\")\n",
    "\n",
    "        if candidate == target:\n",
    "            show(html(f\"<b style='color:green'>✔ Σωστά!</b> Άρα x ≡ {k} mod 5\"))\n",
    "        else:\n",
    "            show(html(f\"<b style='color:red'>✘ Όχι, δεν είναι σωστό.</b> Δοκίμασε άλλη τιμή.\"))\n",
    "    except:\n",
    "        show(html(\"<b style='color:red'>✘ Μη έγκυρη είσοδος.</b> Δώσε ακέραιο αριθμό από 0 έως 4.\"))\n",
    "\n",
    "\n",
    "# Βήμα 2: Ο μαθητής ενεργοποιεί checkbox για βοήθεια\n",
    "@interact(εμφάνισε_λύση=checkbox(\"Θέλω να δω τη σωστή τιμή για k και εξήγηση\"))\n",
    "def βοήθεια_mod5(εμφάνισε_λύση):\n",
    "    if εμφάνισε_λύση:\n",
    "        p = 41\n",
    "        g = 6\n",
    "        h = 10\n",
    "        q = 5\n",
    "        N = p - 1\n",
    "\n",
    "        base = power_mod(g, N // q, p)\n",
    "        target = power_mod(h, N // q, p)\n",
    "\n",
    "        for k in range(q):\n",
    "            if power_mod(base, k, p) == target:\n",
    "                show(html(f\"<b style='color:blue'> Ο σωστός εκθέτης είναι:</b> <b style='color:green'>x ≡ {k} mod 5</b>\"))\n",
    "                print(f\"Διότι: {base}^{k} mod {p} = {target}\")\n",
    "                break\n",
    "    else:\n",
    "        print(\"Η λύση είναι μυστική. Ενεργοποίησε το κουτάκι για να εμφανιστεί.\")\n"
   ]
  },
  {
   "cell_type": "code",
   "execution_count": 26,
   "metadata": {},
   "outputs": [
    {
     "name": "stdout",
     "output_type": "stream",
     "text": [
      "1. Βάλε την τιμή k (0–7) για x ≡ k mod 8 (k1)\n",
      "2. Βάλε την τιμή k (0–4) για x ≡ k mod 5 (k2)\n"
     ]
    },
    {
     "data": {
      "application/vnd.jupyter.widget-view+json": {
       "model_id": "eea702bee3a94c828369659ea20293df",
       "version_major": 2,
       "version_minor": 0
      },
      "text/plain": [
       "Interactive function <function τελικό_crt at 0x6ffd3e3bb3b0> with 3 widgets\n",
       "  k8: EvalText(value='', descripti…"
      ]
     },
     "metadata": {},
     "output_type": "display_data"
    }
   ],
   "source": [
    "print(\"1. Βάλε την τιμή k (0–7) για x ≡ k mod 8 (k1)\")\n",
    "print(\"2. Βάλε την τιμή k (0–4) για x ≡ k mod 5 (k2)\")\n",
    "@interact\n",
    "def τελικό_crt(k8=input_box(default=\"\", label=\"k1\"),\n",
    "                          k5=input_box(default=\"\", label=\"k2\"),\n",
    "                          εμφάνισε_σωστή_λύση=checkbox(\"Εμφάνισε τη σωστή λύση και εξήγηση\")):\n",
    "    try:\n",
    "        # Βασικές σταθερές\n",
    "        p = 41\n",
    "        g = 6\n",
    "        h = 10\n",
    "        N = p - 1\n",
    "\n",
    "        # ----------------------\n",
    "        # Φάση 1: Έλεγχος για mod 8\n",
    "        k8 = Integer(k8)\n",
    "        base8 = power_mod(g, N // 8, p)\n",
    "        target8 = power_mod(h, N // 8, p)\n",
    "        check8 = power_mod(base8, k8, p)\n",
    "        σωστό8 = (check8 == target8)\n",
    "\n",
    "        print(f\"\\n[mod 8] Ελέγχουμε αν {base8}^{k8} ≡ {target8} mod {p} → Υπολογισμός: {check8}\")\n",
    "        if σωστό8:\n",
    "            show(html(f\"<b style='color:green'>✔ Σωστό:</b> x ≡ {k8} mod 8\"))\n",
    "        else:\n",
    "            show(html(f\"<b style='color:red'>✘ Λάθος:</b> x ≢ {k8} mod 8 — Δοκίμασε άλλη τιμή\"))\n",
    "\n",
    "        # ----------------------\n",
    "        # Φάση 2: Έλεγχος για mod 5\n",
    "        k5 = Integer(k5)\n",
    "        base5 = power_mod(g, N // 5, p)\n",
    "        target5 = power_mod(h, N // 5, p)\n",
    "        check5 = power_mod(base5, k5, p)\n",
    "        σωστό5 = (check5 == target5)\n",
    "\n",
    "        print(f\"\\n[mod 5] Ελέγχουμε αν {base5}^{k5} ≡ {target5} mod {p} → Υπολογισμός: {check5}\")\n",
    "        if σωστό5:\n",
    "            show(html(f\"<b style='color:green'>✔ Σωστό:</b> x ≡ {k5} mod 5\"))\n",
    "        else:\n",
    "            show(html(f\"<b style='color:red'>✘ Λάθος:</b> x ≢ {k5} mod 5 — Δοκίμασε άλλη τιμή\"))\n",
    "\n",
    "        # ----------------------\n",
    "        # Φάση 3: Αν και τα δύο σωστά → κάνε CRT\n",
    "        if σωστό8 and σωστό5:\n",
    "            x = crt([k8, k5], [8, 5])\n",
    "            verify = power_mod(g, x, p)\n",
    "            show(html(f\"<b style='color:blue'> Συνολικό αποτέλεσμα:</b> <b>x ≡ {x} mod 40</b>\"))\n",
    "\n",
    "            print(f\"Επαλήθευση: 6^{x} mod 41 = {verify}\")\n",
    "            if verify == h:\n",
    "                show(html(f\"<b style='color:green'>✔ Επιτυχία:</b> 6^{x} ≡ 10 mod 41\"))\n",
    "            else:\n",
    "                show(html(f\"<b style='color:red'>✘ Αποτυχία στην επαλήθευση.</b>\"))\n",
    "        else:\n",
    "            print(\"\\n !!! Δεν μπορούμε να εφαρμόσουμε CRT αν δεν είναι σωστά και τα δύο υπολείμματα.\")\n",
    "\n",
    "        # ----------------------\n",
    "        # Φάση 4: Αν ο μαθητής τσεκάρει 'σωστή λύση'\n",
    "        if εμφάνισε_σωστή_λύση:\n",
    "            # Υπολογισμός σωστού k8\n",
    "            for a in range(8):\n",
    "                if power_mod(base8, a, p) == target8:\n",
    "                    break\n",
    "            for b in range(5):\n",
    "                if power_mod(base5, b, p) == target5:\n",
    "                    break\n",
    "            σωστό_x = crt([a, b], [8, 5])\n",
    "            check_final = power_mod(g, σωστό_x, p)\n",
    "\n",
    "            show(html(f\"<hr><b style='color:blue'>Σωστή λύση:</b> x ≡ {σωστό_x} mod 40\"))\n",
    "            print(f\"Με x ≡ {a} mod 8 και x ≡ {b} mod 5 → CRT ⇒ x = {σωστό_x}\")\n",
    "            print(f\"Επαλήθευση: 6^{σωστό_x} mod 41 = {check_final}\")\n",
    "            if check_final == h:\n",
    "                show(html(f\"<b style='color:green'>✔ Επιτυχία:</b> Ισχύει 6^{σωστό_x} ≡ 10 mod 41\"))\n",
    "            else:\n",
    "                show(html(f\"<b style='color:red'>✘ Αποτυχία στην επαλήθευση της σωστής λύσης!\"))\n",
    "    except:\n",
    "        show(html(\"<b style='color:red'>✘ Λάθος εισαγωγή:</b> Δώσε σωστούς ακέραιους αριθμούς.\"))\n"
   ]
  },
  {
   "cell_type": "code",
   "execution_count": null,
   "metadata": {},
   "outputs": [],
   "source": []
  }
 ],
 "metadata": {
  "kernelspec": {
   "display_name": "SageMath 9.3",
   "language": "sage",
   "name": "sagemath"
  },
  "language_info": {
   "codemirror_mode": {
    "name": "ipython",
    "version": 3
   },
   "file_extension": ".py",
   "mimetype": "text/x-python",
   "name": "python",
   "nbconvert_exporter": "python",
   "pygments_lexer": "ipython3",
   "version": "3.7.10"
  }
 },
 "nbformat": 4,
 "nbformat_minor": 4
}
