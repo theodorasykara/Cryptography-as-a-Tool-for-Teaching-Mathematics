{
 "cells": [
  {
   "cell_type": "markdown",
   "metadata": {},
   "source": [
    "## Project: Πειραματική εφαρμογή του RSA στο SageMath"
   ]
  },
  {
   "cell_type": "code",
   "execution_count": 2,
   "metadata": {},
   "outputs": [
    {
     "name": "stdout",
     "output_type": "stream",
     "text": [
      "Επιλογή δύο μικρών πρώτων p, q (8–10 bits)\n"
     ]
    },
    {
     "data": {
      "application/vnd.jupyter.widget-view+json": {
       "model_id": "f75f41ee0d2f4940a4237352f15bb983",
       "version_major": 2,
       "version_minor": 0
      },
      "text/plain": [
       "Interactive function <function διάλεξε_πρώτους at 0x6ffd3e6dacb0> with 1 widget\n",
       "  bits: TransformIntSlider(val…"
      ]
     },
     "metadata": {},
     "output_type": "display_data"
    }
   ],
   "source": [
    "#  Επιλογή δύο μικρών πρώτων p,q\n",
    "\n",
    "print(\"Επιλογή δύο μικρών πρώτων p, q (8–10 bits)\")\n",
    "@interact\n",
    "def διάλεξε_πρώτους(bits=slider(8, 10, 1, default=8, label=\"Μήκος σε bits:\")):\n",
    "    max_tries = 10\n",
    "    p = q = None\n",
    "    for _ in range(max_tries):\n",
    "        p = random_prime(2^bits, lbound=2^(bits-1))\n",
    "        q = random_prime(2^bits, lbound=2^(bits-1))\n",
    "        if p != q:\n",
    "            break\n",
    "    else:\n",
    "        print(\"⚠️ Απέτυχε η εύρεση διαφορετικών πρώτων μετά από πολλές προσπάθειες.\")\n",
    "        return\n",
    "\n",
    "    n = p * q\n",
    "    phi = (p - 1) * (q - 1)\n",
    "\n",
    "    print(f\"✔ Επιλέχθηκαν:\")\n",
    "    print(f\"p = {p}, q = {q}\")\n",
    "    print(f\"➡ n = p · q = {n}\")\n",
    "    print(f\"➡ φ(n) = (p - 1)(q - 1) = {phi}\")\n",
    "\n",
    "    global RSA_p, RSA_q, RSA_n, RSA_phi\n",
    "    RSA_p, RSA_q, RSA_n, RSA_phi = p, q, n, phi\n"
   ]
  },
  {
   "cell_type": "code",
   "execution_count": 3,
   "metadata": {},
   "outputs": [
    {
     "name": "stdout",
     "output_type": "stream",
     "text": [
      "Επιλογή μικρού e τέτοιου ώστε gcd(e, φ(n)) = 1\n"
     ]
    },
    {
     "data": {
      "application/vnd.jupyter.widget-view+json": {
       "model_id": "6bfff3289cbd4b8f8ac4c8786c2e4db7",
       "version_major": 2,
       "version_minor": 0
      },
      "text/plain": [
       "Interactive function <function επιλέγουμε_e at 0x6ffd3e69b680> with 1 widget\n",
       "  e: EvalText(value='3', descript…"
      ]
     },
     "metadata": {},
     "output_type": "display_data"
    }
   ],
   "source": [
    "#Επιλογή του e (δημόσιο κλειδί)\n",
    "\n",
    "print(\"Επιλογή μικρού e τέτοιου ώστε gcd(e, φ(n)) = 1\")\n",
    "@interact\n",
    "def επιλέγουμε_e(e=input_box(default=3, label=\"Δώσε τιμή για e:\")):\n",
    "    phi = RSA_phi\n",
    "    e = Integer(e)\n",
    "\n",
    "    if gcd(e, phi) == 1:\n",
    "        print(f\"✔ Το e = {e} είναι έγκυρο (σχετικά πρώτος με φ(n) = {phi})\")\n",
    "    else:\n",
    "        print(f\"✘ Το e = {e} δεν είναι σχετικά πρώτος με φ(n) = {phi}. Δοκίμασε άλλη τιμή.\")\n",
    "    \n",
    "    # Αποθήκευση\n",
    "    global RSA_e\n",
    "    RSA_e = e\n"
   ]
  },
  {
   "cell_type": "code",
   "execution_count": 4,
   "metadata": {},
   "outputs": [
    {
     "name": "stdout",
     "output_type": "stream",
     "text": [
      "Υπολογισμός του d ώστε e·d ≡ 1 mod φ(n)\n"
     ]
    },
    {
     "data": {
      "application/vnd.jupyter.widget-view+json": {
       "model_id": "361640da8a3f4e3b8ddd09296cfc072f",
       "version_major": 2,
       "version_minor": 0
      },
      "text/plain": [
       "Interactive function <function υπολογισμός_d_μαθητή at 0x6ffd3e647320> with 2 widgets\n",
       "  απάντηση_d: EvalText(v…"
      ]
     },
     "metadata": {},
     "output_type": "display_data"
    }
   ],
   "source": [
    "#Υπολογισμός του d (ιδιωτικό κλειδί)\n",
    "\n",
    "print(\"Υπολογισμός του d ώστε e·d ≡ 1 mod φ(n)\")\n",
    "@interact\n",
    "def υπολογισμός_d_μαθητή(\n",
    "    απάντηση_d=input_box(default=0, label=\"Η απάντησή σου για d (το αντίστροφο του e modulo φ(n))\"),\n",
    "    εμφάνιση_λύσης=checkbox(False, \"Εμφάνισε υπολογισμό και σωστή λύση\")\n",
    "):\n",
    "    try:\n",
    "        e = RSA_e\n",
    "        phi = RSA_phi\n",
    "\n",
    "        σωστό_d = inverse_mod(e, phi)\n",
    "        μαθητή_d = Integer(απάντηση_d)\n",
    "\n",
    "        if μαθητή_d == σωστό_d:\n",
    "            show(html(f\"<b style='color:green'>✔ Σωστά!</b> Το d είναι <b>{σωστό_d}</b>.\"))\n",
    "        else:\n",
    "            show(html(\n",
    "                f\"<b style='color:red'>✘ Λάθος.</b> Η απάντησή σου ήταν <b>{μαθητή_d}</b>, \"\n",
    "                f\"αλλά δεν ισχύει ότι {e}×{μαθητή_d} ≡ 1 mod {phi}.\"\n",
    "            ))\n",
    "\n",
    "        if εμφάνιση_λύσης:\n",
    "            print(\"Υπολογισμός του d:\")\n",
    "            print(f\"➡ Δεδομένα: e = {e}, φ(n) = {phi}\")\n",
    "            print(f\"➡ Θέλουμε: d τέτοιο ώστε e·d ≡ 1 mod φ(n)\")\n",
    "            print(f\"➡ Υπολογισμός: d = inverse_mod({e}, {phi}) = {σωστό_d}\")\n",
    "\n",
    "        # Αποθήκευση για επόμενα βήματα (αν είναι σωστός)\n",
    "        if μαθητή_d == σωστό_d:\n",
    "            global RSA_d\n",
    "            RSA_d = σωστό_d\n",
    "\n",
    "    except ValueError:\n",
    "        print(\"✘ Το e δεν έχει αντίστροφο modulo φ(n). Διάλεξε άλλο e.\")\n",
    "    except NameError:\n",
    "        print(\"⚠️ Πρέπει πρώτα να έχουν υπολογιστεί το e και το φ(n).\")\n"
   ]
  },
  {
   "cell_type": "code",
   "execution_count": 5,
   "metadata": {},
   "outputs": [
    {
     "name": "stdout",
     "output_type": "stream",
     "text": [
      " Έλεγχος δημόσιου και ιδιωτικού κλειδιού από τον μαθητή\n",
      "1. Δώσε το n = p·q:\n",
      "2. Δώσε το φ(n) = (p−1)(q−1):\n",
      "3. Δώσε το e (συνήθως μικρός πρώτος που gcd(e, φ(n))=1):\n",
      "4. Δώσε το d (αντίστροφο του e mod φ(n)):\n"
     ]
    },
    {
     "data": {
      "application/vnd.jupyter.widget-view+json": {
       "model_id": "d515a23dfcc9424bb49070e2983e6788",
       "version_major": 2,
       "version_minor": 0
      },
      "text/plain": [
       "Interactive function <function έλεγχος_κλειδιών_με_υπόδειξη at 0x6ffd3e4beb90> with 5 widgets\n",
       "  εισαγωγή_n: Ev…"
      ]
     },
     "metadata": {},
     "output_type": "display_data"
    }
   ],
   "source": [
    "print(\" Έλεγχος δημόσιου και ιδιωτικού κλειδιού από τον μαθητή\")\n",
    "print(\"1. Δώσε το n = p·q:\"),\n",
    "print(\"2. Δώσε το φ(n) = (p−1)(q−1):\"),\n",
    "print(\"3. Δώσε το e (συνήθως μικρός πρώτος που gcd(e, φ(n))=1):\"),\n",
    "print(\"4. Δώσε το d (αντίστροφο του e mod φ(n)):\"),\n",
    "\n",
    "\n",
    "@interact\n",
    "def έλεγχος_κλειδιών_με_υπόδειξη(\n",
    "    εισαγωγή_n=input_box(label=\"n = p·q:\"),\n",
    "    εισαγωγή_phi=input_box(label=\"φ(n) = (p−1)(q−1):\"),\n",
    "    εισαγωγή_e=input_box(label=\"e\"),\n",
    "    εισαγωγή_d=input_box(label=\"d:\"),\n",
    "    εμφάνιση_λύσης=checkbox(False, \"Εμφάνισε σωστά αποτελέσματα και υπολογισμούς\")\n",
    "):\n",
    "    try:\n",
    "        p = RSA_p\n",
    "        q = RSA_q\n",
    "        σωστό_n = RSA_n\n",
    "        σωστό_phi = RSA_phi\n",
    "        σωστό_e = RSA_e\n",
    "        σωστό_d = RSA_d\n",
    "\n",
    "        # Μετατροπή και έλεγχοι\n",
    "        απάντηση_n = Integer(εισαγωγή_n)\n",
    "        απάντηση_phi = Integer(εισαγωγή_phi)\n",
    "        απάντηση_e = Integer(εισαγωγή_e)\n",
    "        απάντηση_d = Integer(εισαγωγή_d)\n",
    "\n",
    "        n_ok = απάντηση_n == σωστό_n\n",
    "        phi_ok = απάντηση_phi == σωστό_phi\n",
    "        e_ok = απάντηση_e == σωστό_e\n",
    "        d_ok = απάντηση_d == σωστό_d\n",
    "\n",
    "        if n_ok and phi_ok and e_ok and d_ok:\n",
    "            show(html(\"<b style='color:green'>✔ Όλα τα στάδια είναι σωστά!</b>\"))\n",
    "        else:\n",
    "            feedback = \"<b style='color:red'>✘ Κάποια στάδια είναι λάθος:</b><ul>\"\n",
    "            if not n_ok:\n",
    "                feedback += f\"<li><b>n</b> είναι λάθος. Υπολόγισες {απάντηση_n}</li>\"\n",
    "            if not phi_ok:\n",
    "                feedback += f\"<li><b>φ(n)</b> είναι λάθος. Υπολόγισες {απάντηση_phi}</li>\"\n",
    "            if not e_ok:\n",
    "                feedback += f\"<li><b>e</b> είναι λάθος. Υπολόγισες {απάντηση_e}</li>\"\n",
    "            if not d_ok:\n",
    "                feedback += f\"<li><b>d</b> είναι λάθος. Υπολόγισες {απάντηση_d}</li>\"\n",
    "            feedback += \"</ul>\"\n",
    "            show(html(feedback))\n",
    "\n",
    "        if εμφάνιση_λύσης:\n",
    "            print(\"📘 Υπολογισμός κλειδιών RSA:\")\n",
    "            print(f\"p = {p}, q = {q}\")\n",
    "            print(f\"➡ n = p·q = {p}·{q} = {σωστό_n}\")\n",
    "            print(f\"➡ φ(n) = (p-1)(q-1) = ({p - 1})·({q - 1}) = {σωστό_phi}\")\n",
    "            print(f\"➡ Επιλέγουμε e ώστε gcd(e, φ(n))=1 → π.χ. e = {σωστό_e}\")\n",
    "            print(f\"➡ Υπολογίζουμε d ως αντίστροφο του e mod φ(n): d ≡ e⁻¹ mod φ(n) → d = {σωστό_d}\")\n",
    "\n",
    "    except NameError:\n",
    "        print(\"⚠️ Πρέπει πρώτα να έχουν υπολογιστεί οι τιμές p και q (Βήμα 1).\")\n"
   ]
  },
  {
   "cell_type": "code",
   "execution_count": 6,
   "metadata": {},
   "outputs": [
    {
     "name": "stdout",
     "output_type": "stream",
     "text": [
      "Κρυπτογράφηση μηνύματος M\n",
      "Μήνυμα M, ακέραιος < n):\n",
      "Η απάντησή σου για C (C = M^e mod n):\n"
     ]
    },
    {
     "data": {
      "application/vnd.jupyter.widget-view+json": {
       "model_id": "4fc7d328111242c1aba225b948cb2aea",
       "version_major": 2,
       "version_minor": 0
      },
      "text/plain": [
       "Interactive function <function αξιολόγηση_κρυπτογράφησης at 0x6ffd3e475c20> with 3 widgets\n",
       "  M: EvalText(value…"
      ]
     },
     "metadata": {},
     "output_type": "display_data"
    }
   ],
   "source": [
    "print(\"Κρυπτογράφηση μηνύματος M\")\n",
    "print(\"Μήνυμα M, ακέραιος < n):\"),\n",
    "print(\"Η απάντησή σου για C (C = M^e mod n):\"),\n",
    "@interact\n",
    "def αξιολόγηση_κρυπτογράφησης(\n",
    "    M=input_box(default=12, label=\"M:\"),\n",
    "    απάντηση=input_box(default=0, label=\"C:\"),\n",
    "    εμφάνιση_λύσης=checkbox(False, \"Εμφάνισε σωστή λύση και υπολογισμό\")\n",
    "):\n",
    "    try:\n",
    "        n = RSA_n\n",
    "        e = RSA_e\n",
    "        M = Integer(M)\n",
    "\n",
    "        if M >= n:\n",
    "            show(html(\"<b style='color:red'>❌ Το M πρέπει να είναι μικρότερο από n!</b>\"))\n",
    "            return\n",
    "\n",
    "        σωστό_C = power_mod(M, e, n)\n",
    "        μαθητή_C = Integer(απάντηση)\n",
    "\n",
    "        if μαθητή_C == σωστό_C:\n",
    "            show(html(f\"<b style='color:green'>✔ Σωστά!</b> Το C είναι <b>{σωστό_C}</b>.\"))\n",
    "        else:\n",
    "            show(html(f\"<b style='color:red'>✘ Λάθος.</b> Η απάντησή σου ήταν <b>{μαθητή_C}</b>, αλλά το σωστό C είναι διαφορετικό.\"))\n",
    "\n",
    "        if εμφάνιση_λύσης:\n",
    "            print(\"📘 Υπολογισμός Κρυπτογραφήματος:\")\n",
    "            print(f\"➡ M = {M}\")\n",
    "            print(f\"➡ Δημόσιο κλειδί: (n, e) = ({n}, {e})\")\n",
    "            print(f\"➡ Υπολογισμός: C = M^e mod n = {M}^{e} mod {n}\")\n",
    "            print(f\"➡ Τελικό αποτέλεσμα: C = {σωστό_C}\")\n",
    "\n",
    "        # Αποθήκευση για επόμενα βήματα\n",
    "        global RSA_M, RSA_C\n",
    "        RSA_M, RSA_C = M, σωστό_C\n",
    "\n",
    "    except NameError:\n",
    "        print(\"⚠️ Οι μεταβλητές RSA_n ή RSA_e δεν έχουν οριστεί (πρέπει να προηγηθεί ο υπολογισμός κλειδιών).\")\n"
   ]
  },
  {
   "cell_type": "code",
   "execution_count": 7,
   "metadata": {},
   "outputs": [
    {
     "name": "stdout",
     "output_type": "stream",
     "text": [
      "Αποκρυπτογράφηση μηνύματος\n",
      "Δώσε το C (κρυπτογράφημα από προηγούμενη κρυπτογράφηση):\n"
     ]
    },
    {
     "data": {
      "application/vnd.jupyter.widget-view+json": {
       "model_id": "b8ba44128f3e4953b51aee47c335a9bd",
       "version_major": 2,
       "version_minor": 0
      },
      "text/plain": [
       "Interactive function <function αποκρυπτογράφηση_με_έλεγχο at 0x6ffd3e4753b0> with 2 widgets\n",
       "  εισαγόμενο_C: Ev…"
      ]
     },
     "metadata": {},
     "output_type": "display_data"
    }
   ],
   "source": [
    "print(\"Αποκρυπτογράφηση μηνύματος\")\n",
    "print(\"Δώσε το C (κρυπτογράφημα από προηγούμενη κρυπτογράφηση):\")\n",
    "\n",
    "@interact\n",
    "def αποκρυπτογράφηση_με_έλεγχο(\n",
    "    εισαγόμενο_C=input_box(default=0, label=\"C:\"),\n",
    "    εμφάνιση_λύσης=checkbox(False, \"Εμφάνισε σωστή λύση\")\n",
    "):\n",
    "    try:\n",
    "        C = Integer(εισαγόμενο_C)\n",
    "        M_αποκρυπτογραφημένο = power_mod(C, RSA_d, RSA_n)\n",
    "\n",
    "        if C == RSA_C:\n",
    "            if M_αποκρυπτογραφημένο == RSA_M:\n",
    "                show(html(f\"<b style='color:green'>✔ Σωστά!</b> Το C αποκρυπτογραφήθηκε σωστά σε M = <b>{M_αποκρυπτογραφημένο}</b>.\"))\n",
    "            else:\n",
    "                show(html(f\"<b style='color:red'>❌ Λάθος αποκρυπτογράφηση.</b> Το αποτέλεσμα δεν ταιριάζει με το αρχικό M.\"))\n",
    "        else:\n",
    "            show(html(f\"<b style='color:orange'>⚠️ Προσοχή!</b> Το C που έδωσες (<b>{C}</b>) <b>δεν είναι</b> αυτό που υπολογίστηκε στην κρυπτογράφηση (<b>{RSA_C}</b>), οπότε η αποκρυπτογράφηση δεν έχει νόημα ως έλεγχος.\"))\n",
    "\n",
    "        if εμφάνιση_λύσης:\n",
    "            print(\"Υπολογισμός:\")\n",
    "            print(f\"➡ C = {C}\")\n",
    "            print(f\"➡ d = {RSA_d}, n = {RSA_n}\")\n",
    "            print(f\"➡ M = C^d mod n = {C}^{RSA_d} mod {RSA_n} = {M_αποκρυπτογραφημένο}\")\n",
    "\n",
    "    except NameError:\n",
    "        print(\"⚠️ Πρέπει πρώτα να έχουν υπολογιστεί τα κλειδιά και το C από την κρυπτογράφηση.\")\n"
   ]
  },
  {
   "cell_type": "code",
   "execution_count": 8,
   "metadata": {},
   "outputs": [
    {
     "name": "stdout",
     "output_type": "stream",
     "text": [
      "Πειραματισμός: Τι συμβαίνει αν το p ή το q δεν είναι πρώτος αριθμός;\n",
      "Δοκίμασε σύνθετο p και σύνθετο q:\n"
     ]
    },
    {
     "data": {
      "application/vnd.jupyter.widget-view+json": {
       "model_id": "644fc7157059430b8d269aedd89cef1e",
       "version_major": 2,
       "version_minor": 0
      },
      "text/plain": [
       "Interactive function <function σύνθετος_παράγοντας at 0x6ffd3e402950> with 2 widgets\n",
       "  p: EvalText(value='15',…"
      ]
     },
     "metadata": {},
     "output_type": "display_data"
    }
   ],
   "source": [
    "print(\"Πειραματισμός: Τι συμβαίνει αν το p ή το q δεν είναι πρώτος αριθμός;\")\n",
    "print(\"Δοκίμασε σύνθετο p και σύνθετο q:\")\n",
    "\n",
    "@interact\n",
    "def σύνθετος_παράγοντας(p=input_box(default=15, label=\"p:\"),\n",
    "                        q=input_box(default=21, label=\"q:\")):\n",
    "    try:\n",
    "        n = p * q\n",
    "        phi = (p - 1)*(q - 1)\n",
    "        e = 3\n",
    "        d = inverse_mod(e, phi)\n",
    "        print(\"❗ Παρ' ότι p, q δεν είναι πρώτοι, το RSA μοιάζει να δουλεύει...\")\n",
    "        print(\"✘ Όμως δεν είναι ασφαλές: ο επιτιθέμενος μπορεί εύκολα να παραγοντοποιήσει n.\")\n",
    "    except:\n",
    "        print(\"✔ Δεν ορίζεται αντίστροφος. Το RSA αποτυγχάνει όπως πρέπει σε σύνθετους αριθμούς.\")\n"
   ]
  },
  {
   "cell_type": "code",
   "execution_count": null,
   "metadata": {},
   "outputs": [],
   "source": []
  }
 ],
 "metadata": {
  "kernelspec": {
   "display_name": "SageMath 9.3",
   "language": "sage",
   "name": "sagemath"
  },
  "language_info": {
   "codemirror_mode": {
    "name": "ipython",
    "version": 3
   },
   "file_extension": ".py",
   "mimetype": "text/x-python",
   "name": "python",
   "nbconvert_exporter": "python",
   "pygments_lexer": "ipython3",
   "version": "3.7.10"
  }
 },
 "nbformat": 4,
 "nbformat_minor": 4
}
