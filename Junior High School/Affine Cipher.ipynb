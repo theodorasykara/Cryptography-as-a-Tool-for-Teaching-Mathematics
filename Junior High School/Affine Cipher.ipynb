{
 "cells": [
  {
   "cell_type": "code",
   "execution_count": 22,
   "metadata": {},
   "outputs": [
    {
     "name": "stdout",
     "output_type": "stream",
     "text": [
      "Κρυπτογραφούμε τη λέξη HELLO με a = 5, b = 8 και αλφάβητο 26 γραμμάτων (A=0,...,Z=25)\n"
     ]
    },
    {
     "data": {
      "application/vnd.jupyter.widget-view+json": {
       "model_id": "61bba67ab3eb4711a52d63e3a1deb08b",
       "version_major": 2,
       "version_minor": 0
      },
      "text/plain": [
       "Interactive function <function κρυπτογράφηση_affine at 0x6ffd3e4939e0> with 1 widget\n",
       "  αποτέλεσμα: EvalText(va…"
      ]
     },
     "metadata": {},
     "output_type": "display_data"
    }
   ],
   "source": [
    "# Δ1.1 Κρυπτογράφηση με Affine Cipher\n",
    "\n",
    "print(\"Κρυπτογραφούμε τη λέξη HELLO με a = 5, b = 8 και αλφάβητο 26 γραμμάτων (A=0,...,Z=25)\")\n",
    "\n",
    "@interact\n",
    "def κρυπτογράφηση_affine(αποτέλεσμα=input_box(default=\"\", label=\"ciphertext\")):\n",
    "    def affine_encrypt(text, a, b):\n",
    "        return ''.join([chr(((a*(ord(c)-65)+b)%26)+65) for c in text])\n",
    "    \n",
    "    a, b = 5, 8\n",
    "    plaintext = \"HELLO\"\n",
    "    κρυπτο = affine_encrypt(plaintext, a, b)\n",
    "    \n",
    "    if αποτέλεσμα.upper() == κρυπτο:\n",
    "        show(html(f\"<b style='color:green'>✔ Σωστά!</b> Το κρυπτογραφημένο μήνυμα είναι <code>{κρυπτο}</code>\"))\n",
    "    else:\n",
    "        show(html(f\"<b style='color:red'>✘ Λάθος.</b> Το σωστό είναι <code>{κρυπτο}</code>\"))\n",
    "\n",
    "    print(f\"➡ Εφαρμογή του τύπου E_k(m) = (a·m + b) mod 26\")\n",
    "    print(f\"➡ Εξακριβώνουμε ότι a = {a}, b = {b}, plaintext = '{plaintext}'\")\n"
   ]
  },
  {
   "cell_type": "code",
   "execution_count": 23,
   "metadata": {},
   "outputs": [
    {
     "name": "stdout",
     "output_type": "stream",
     "text": [
      "Ας αποκρυπτογραφήσουμε το μήνυμα RCLLA με τον αντίστροφο του a=5 mod 26.\n"
     ]
    },
    {
     "data": {
      "application/vnd.jupyter.widget-view+json": {
       "model_id": "5b640dd6cd54493f971fd3be3e9a3ad3",
       "version_major": 2,
       "version_minor": 0
      },
      "text/plain": [
       "Interactive function <function αποκρυπτογράφηση_affine at 0x6ffd3e47b0e0> with 1 widget\n",
       "  απάντηση: EvalText(v…"
      ]
     },
     "metadata": {},
     "output_type": "display_data"
    }
   ],
   "source": [
    "# Δ1.2 Αποκρυπτογράφηση με Affine Cipher\n",
    "print(\"Ας αποκρυπτογραφήσουμε το μήνυμα RCLLA με τον αντίστροφο του a=5 mod 26.\")\n",
    "\n",
    "@interact\n",
    "def αποκρυπτογράφηση_affine(απάντηση=input_box(default=\"\", label=\"plaintext\")):\n",
    "    def affine_decrypt(cipher, a, b):\n",
    "        a_inv = inverse_mod(a, 26)\n",
    "        return ''.join([chr(((a_inv*((ord(c)-65)-b))%26)+65) for c in cipher])\n",
    "    \n",
    "    a, b = 5, 8\n",
    "    cipher = \"RCLLA\"  # Το κρυπτογραφημένο μήνυμα\n",
    "    αποκρυπτο = affine_decrypt(cipher, a, b)\n",
    "    \n",
    "    if απάντηση.upper() == αποκρυπτο:\n",
    "        show(html(f\"<b style='color:green'>✔ Σωστά!</b> Το αρχικό μήνυμα ήταν <code>{αποκρυπτο}</code>\"))\n",
    "    else:\n",
    "        show(html(f\"<b style='color:red'>✘ Λάθος. </b> Το σωστό ήταν <code>{αποκρυπτο}</code>\"))\n",
    "\n",
    "    print(\"➡ Εφαρμόζουμε τον τύπο αποκρυπτογράφησης: D_k(c) = a⁻¹·(c - b) mod 26\")\n"
   ]
  },
  {
   "cell_type": "code",
   "execution_count": 16,
   "metadata": {},
   "outputs": [
    {
     "name": "stdout",
     "output_type": "stream",
     "text": [
      " Έλεγχος εγκυρότητας a για χρήση σε affine cipher\n",
      " Το a πρέπει να είναι σχετικά πρώτος με το 26 για να έχει αντίστροφο (gcd(a, 26) = 1)\n"
     ]
    },
    {
     "data": {
      "application/vnd.jupyter.widget-view+json": {
       "model_id": "b220cedb168e4fb8ba21c1b873f87e65",
       "version_major": 2,
       "version_minor": 0
      },
      "text/plain": [
       "Interactive function <function έλεγχος_εγκυρότητας_a at 0x6ffd3e4d8710> with 1 widget\n",
       "  a: EvalText(value='', …"
      ]
     },
     "metadata": {},
     "output_type": "display_data"
    }
   ],
   "source": [
    "# Δ1.3 Έλεγχος Εγκυρότητας Τιμής του a για Κρυπτοσύστημα Affine\n",
    "\n",
    "print(\" Έλεγχος εγκυρότητας a για χρήση σε Affine Cipher\")\n",
    "print(\" Το a πρέπει να είναι σχετικά πρώτος με το 26 για να έχει αντίστροφο (gcd(a, 26) = 1)\")\n",
    "\n",
    "@interact\n",
    "def έλεγχος_εγκυρότητας_a(a=input_box(default=\"\", label=\"Δώσε τιμή για a (1–25):\")):\n",
    "    try:\n",
    "        a = Integer(a)\n",
    "        if not 1 <= a <= 25:\n",
    "            show(html(\"<b style='color:orange'>!!! Το a πρέπει να είναι μεταξύ 1 και 25.</b>\"))\n",
    "            return\n",
    "\n",
    "        g = gcd(a, 26)\n",
    "\n",
    "        if g == 1:\n",
    "            inv = inverse_mod(a, 26)\n",
    "            show(html(f\"<b style='color:green'>✔ Έγκυρο a</b> gcd({a}, 26) = 1 → έχει αντίστροφο: <code>{inv}</code>\"))\n",
    "            print(f\"➡ Μπορεί να χρησιμοποιηθεί στον Affine Cipher.\\n➡ Αντίστροφος του {a} mod 26 είναι {inv}.\")\n",
    "        else:\n",
    "            show(html(f\"<b style='color:red'>✘ Μη έγκυρο a</b> gcd({a}, 26) = {g} ≠ 1 → δεν έχει αντίστροφο.\"))\n",
    "            print(\"➡ Δεν μπορεί να χρησιμοποιηθεί στον Affine Cipher.\")\n",
    "    except:\n",
    "        show(html(\"<b style='color:red'>✘ Μη έγκυρη είσοδος!</b> Δώσε έναν ακέραιο αριθμό μεταξύ 1 και 25.\"))\n"
   ]
  },
  {
   "cell_type": "code",
   "execution_count": 18,
   "metadata": {},
   "outputs": [
    {
     "name": "stdout",
     "output_type": "stream",
     "text": [
      " Διερεύνηση: Τι συμβαίνει αν επιλέξουμε τιμή του a που δεν έχει αντίστροφο mod 26;\n",
      " Στόχος: Δοκιμάστε π.χ. a = 13 και παρατηρήστε το αποτέλεσμα της κρυπτογράφησης και την απουσία αντιστρόφου.\n"
     ]
    },
    {
     "data": {
      "application/vnd.jupyter.widget-view+json": {
       "model_id": "09141cae60b14d7bb787c89aa112ae6e",
       "version_major": 2,
       "version_minor": 0
      },
      "text/plain": [
       "Interactive function <function δοκιμή_mh_egkyrwn_a at 0x6ffd3e4934d0> with 2 widgets\n",
       "  a: EvalText(value='13',…"
      ]
     },
     "metadata": {},
     "output_type": "display_data"
    }
   ],
   "source": [
    "# 1.4 Διερεύνηση Αποτυχίας στον Affine Cipher με Μη Αντιστρέψιμο a\n",
    "\n",
    "print(\" Διερεύνηση: Τι συμβαίνει αν επιλέξουμε τιμή του a που δεν έχει αντίστροφο mod 26;\")\n",
    "print(\" Στόχος: Δοκιμάστε π.χ. a = 13 και παρατηρήστε το αποτέλεσμα της κρυπτογράφησης και την απουσία αντιστρόφου.\")\n",
    "\n",
    "@interact\n",
    "def δοκιμή_mh_egkyrwn_a(a=input_box(default=13, label=\"Διάλεξε τιμή για a:\"), \n",
    "                        b=input_box(default=8, label=\"Διάλεξε τιμή για b:\")):\n",
    "    try:\n",
    "        a = Integer(a)\n",
    "        b = Integer(b)\n",
    "        msg = \"HELLO\"\n",
    "        g = gcd(a, 26)\n",
    "\n",
    "        if g != 1:\n",
    "            show(html(f\"<b style='color:red'>✘ Το a = {a} δεν είναι έγκυρο.</b> gcd({a}, 26) = {g} ≠ 1 → δεν έχει αντίστροφο.\"))\n",
    "            print(\"➡ Δεν μπορούμε να αποκρυπτογραφήσουμε σωστά.\")\n",
    "        else:\n",
    "            inv = inverse_mod(a, 26)\n",
    "            show(html(f\"<b style='color:green'>✔ Το a = {a} είναι έγκυρο.</b> Αντίστροφος: {inv}\"))\n",
    "\n",
    "        # Κρυπτογράφηση\n",
    "        def affine_encrypt(text, a, b):\n",
    "            return ''.join([chr(((a * (ord(c) - 65) + b) % 26) + 65) for c in text])\n",
    "\n",
    "        κρυπτογραφημένο = affine_encrypt(msg, a, b)\n",
    "        print(f\" Κρυπτογραφούμε το μήνυμα '{msg}' με a = {a}, b = {b}\")\n",
    "        print(f\"➡ Κρυπτογραφημένο μήνυμα: {κρυπτογραφημένο}\")\n",
    "\n",
    "        if g != 1:\n",
    "            print(\"✘ Εφόσον το a δεν έχει αντίστροφο, δεν είναι δυνατή η ασφαλής αποκρυπτογράφηση.\")\n",
    "\n",
    "    except:\n",
    "        show(html(\"<b style='color:red'>✘ Μη έγκυρη είσοδος!</b> Δώσε ακέραιους αριθμούς.\"))\n"
   ]
  },
  {
   "cell_type": "code",
   "execution_count": null,
   "metadata": {},
   "outputs": [],
   "source": []
  }
 ],
 "metadata": {
  "kernelspec": {
   "display_name": "SageMath 9.3",
   "language": "sage",
   "name": "sagemath"
  },
  "language_info": {
   "codemirror_mode": {
    "name": "ipython",
    "version": 3
   },
   "file_extension": ".py",
   "mimetype": "text/x-python",
   "name": "python",
   "nbconvert_exporter": "python",
   "pygments_lexer": "ipython3",
   "version": "3.7.10"
  }
 },
 "nbformat": 4,
 "nbformat_minor": 4
}
