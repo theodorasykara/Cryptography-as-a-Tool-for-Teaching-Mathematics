{
 "cells": [
  {
   "cell_type": "code",
   "execution_count": 24,
   "metadata": {},
   "outputs": [
    {
     "data": {
      "application/vnd.jupyter.widget-view+json": {
       "model_id": "676e68d23bba458d9f85726ee2495a5a",
       "version_major": 2,
       "version_minor": 0
      },
      "text/plain": [
       "Interactive function <function gcd_check at 0x6ffd3e4ac830> with 2 widgets\n",
       "  ζευγάρι: Dropdown(description='Δι…"
      ]
     },
     "metadata": {},
     "output_type": "display_data"
    }
   ],
   "source": [
    "# Υπολογισμός gcd\n",
    "⁡\n",
    "@interact\n",
    "def gcd_check(ζευγάρι=selector([((48, 18), '48 και 18'),\n",
    "                               ((35, 64), '35 και 64')],\n",
    "                               label=\"Διάλεξε ζευγάρι:\"),\n",
    "              απάντηση=input_box(default=\"\", label=\"Δώσε το gcd:\")):\n",
    "    a, b = Integer(ζευγάρι[0]), Integer(ζευγάρι[1])\n",
    "    σωστό = gcd(a, b)\n",
    "    απάντηση = Integer(απάντηση)\n",
    "    \n",
    "    if απάντηση == σωστό:\n",
    "        show(html(f\"<b style='color:green'>✓ Σωστά!</b> Το gcd({a},{b}) = {σωστό}\"))\n",
    "    else:\n",
    "        show(html(f\"<b style='color:red'>✗ Λάθος.</b> Το σωστό είναι gcd({a},{b}) = {σωστό}\"))\n",
    "    \n",
    "    if σωστό == 1:\n",
    "        print(\"➡ Οι αριθμοί είναι σχετικά πρώτοι (δεν έχουν κοινό διαιρέτη πέρα από το 1).\")\n",
    "    else:\n",
    "        print(f\"➡ Οι αριθμοί ΔΕΝ είναι σχετικά πρώτοι, γιατί έχουν κοινό διαιρέτη το {σωστό}.\")\n"
   ]
  },
  {
   "cell_type": "code",
   "execution_count": 25,
   "metadata": {},
   "outputs": [
    {
     "name": "stdout",
     "output_type": "stream",
     "text": [
      "Δωσε τιμή για τον πρώτο (a) και τον δευτερο (b) αριθμό.\n"
     ]
    },
    {
     "data": {
      "application/vnd.jupyter.widget-view+json": {
       "model_id": "a21f7387681e4cdfaa2a970bebbe270a",
       "version_major": 2,
       "version_minor": 0
      },
      "text/plain": [
       "Interactive function <function euclidean_steps at 0x6ffd3e4ac9e0> with 3 widgets\n",
       "  a: EvalText(value='1071', d…"
      ]
     },
     "metadata": {},
     "output_type": "display_data"
    }
   ],
   "source": [
    "# Εφαρμογή Ευκλείδειου Αλγόριθμου (με βήματα)\n",
    "\n",
    "print(f\"Δωσε τιμή για τον πρώτο (a) και τον δευτερο (b) αριθμό.\")\n",
    "@interact\n",
    "def euclidean_steps(\n",
    "    a=input_box(1071, label=\"a:\"),\n",
    "    b=input_box(462, label=\"b:\"),\n",
    "    απάντηση=input_box('', label='gcd(a, b):', type=str)\n",
    "):\n",
    "    print(f\"Βρες το gcd({a}, {b}) χρησιμοποιώντας τον Ευκλείδειο Αλγόριθμο.\\n\")\n",
    "\n",
    "    if απάντηση.strip() != '':\n",
    "        try:\n",
    "            user_gcd = Integer(απάντηση)\n",
    "\n",
    "            # Ευκλείδειος Αλγόριθμος\n",
    "            steps = []\n",
    "            orig_a, orig_b = a, b\n",
    "            while b != 0:\n",
    "                q = a // b\n",
    "                r = a % b\n",
    "                steps.append((a, b, q, r))\n",
    "                a, b = b, r\n",
    "            τελικό_gcd = a\n",
    "            # ANSI codes for colors\n",
    "            GREEN = \"\\033[92m\"\n",
    "            RED = \"\\033[91m\"\n",
    "            RESET = \"\\033[0m\"\n",
    "\n",
    "            # Ανατροφοδότηση\n",
    "            if user_gcd == τελικό_gcd:\n",
    "                print(f\"{GREEN}✓ Σωστά!{RESET} Το gcd({orig_a}, {orig_b}) είναι {τελικό_gcd}.\")\n",
    "            else:\n",
    "                print(f\"{RED}✗ Λάθος.{RESET} Το σωστό gcd είναι {τελικό_gcd}.\")\n",
    "\n",
    "            print(\"\\n Βήματα Ευκλείδειου Αλγορίθμου:\")\n",
    "            for i, (a1, b1, q1, r1) in enumerate(steps):\n",
    "                print(f\"  Βήμα {i+1}: {a1} = {q1}·{b1} + {r1}\")\n",
    "\n",
    "            print(f\"\\nΤελικά, το gcd είναι το τελευταίο μη μηδενικό υπόλοιπο: {τελικό_gcd}\")\n",
    "            print(f\"Επαλήθευση με Sage: gcd({orig_a},{orig_b}) = {gcd(orig_a, orig_b)}\")\n",
    "        except:\n",
    "            print(\"Προσοχή! Πληκτρολόγησε έγκυρο ακέραιο αριθμό.\")\n"
   ]
  },
  {
   "cell_type": "code",
   "execution_count": null,
   "metadata": {},
   "outputs": [],
   "source": []
  }
 ],
 "metadata": {
  "kernelspec": {
   "display_name": "SageMath 9.3",
   "language": "sage",
   "name": "sagemath"
  },
  "language_info": {
   "codemirror_mode": {
    "name": "ipython",
    "version": 3
   },
   "file_extension": ".py",
   "mimetype": "text/x-python",
   "name": "python",
   "nbconvert_exporter": "python",
   "pygments_lexer": "ipython3",
   "version": "3.7.10"
  }
 },
 "nbformat": 4,
 "nbformat_minor": 4
}
