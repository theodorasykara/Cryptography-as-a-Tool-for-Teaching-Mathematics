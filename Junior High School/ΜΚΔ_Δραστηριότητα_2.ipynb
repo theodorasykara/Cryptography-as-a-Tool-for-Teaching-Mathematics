{
 "cells": [
  {
   "cell_type": "markdown",
   "metadata": {},
   "source": [
    "## Δραστηριότητα: Εκτεταμένος Ευκλείδειος & Πολλαπλασιαστικά Αντίστροφα"
   ]
  },
  {
   "cell_type": "code",
   "execution_count": 18,
   "metadata": {},
   "outputs": [
    {
     "name": "stdout",
     "output_type": "stream",
     "text": [
      "Δωσε τιμες για τα x και y.\n"
     ]
    },
    {
     "data": {
      "application/vnd.jupyter.widget-view+json": {
       "model_id": "55f08882d16b43458969c8334b31c492",
       "version_major": 2,
       "version_minor": 0
      },
      "text/plain": [
       "Interactive function <function bezout_solution at 0x6ffd3e58b5f0> with 2 widgets\n",
       "  απάντηση_x: TransformText(v…"
      ]
     },
     "metadata": {},
     "output_type": "display_data"
    }
   ],
   "source": [
    "# Εξίσωση Bézout - Ευρεση x,y ώστε 48x+18y=gcd(48,18)\n",
    "\n",
    "print(f\"Δωσε τιμες για τα x και y.\")\n",
    "@interact\n",
    "def bezout_solution(απάντηση_x=input_box('', label=\"x:\", type=str), \n",
    "                    απάντηση_y=input_box('', label=\"y:\", type=str)):\n",
    "    a, b = 48, 18\n",
    "    g, σωστό_x, σωστό_y = xgcd(a, b)\n",
    "\n",
    "    print(f\"Βρες ακέραιους x, y ώστε: {a}·x + {b}·y = gcd({a}, {b}) = {g}\")\n",
    "    # ANSI codes for colors\n",
    "    GREEN = \"\\033[92m\"\n",
    "    RED = \"\\033[91m\"\n",
    "    RESET = \"\\033[0m\"\n",
    "\n",
    "    if απάντηση_x != '' and απάντηση_y != '':\n",
    "        try:\n",
    "            x = Integer(απάντηση_x)\n",
    "            y = Integer(απάντηση_y)\n",
    "            lhs = a * x + b * y\n",
    "\n",
    "            if lhs == g:\n",
    "                print(f\"{GREEN}✓ Σωστά!{RESET} Το {a}·{x} + {b}·{y} = {lhs} = gcd({a},{b})\")\n",
    "            else:\n",
    "                print(f\"{RED}✗ Λάθος.{RESET} Το {a}·{x} + {b}·{y} = {lhs}, ενώ το gcd είναι {g}\")\n",
    "                print(f\"👉 Η σωστή αναπαράσταση Bézout είναι:\")\n",
    "                print(f\"   x = {σωστό_x}, y = {σωστό_y} ⇒ {a}·{σωστό_x} + {b}·{σωστό_y} = {g}\")\n",
    "            \n",
    "            print(\"➡ Ο εκτεταμένος Ευκλείδειος μας δίνει τις τιμές x, y που ικανοποιούν την εξίσωση.\")\n",
    "        except:\n",
    "            print(\"!!! Δώσε έγκυρους ακέραιους αριθμούς.\")\n"
   ]
  },
  {
   "cell_type": "code",
   "execution_count": 17,
   "metadata": {},
   "outputs": [
    {
     "name": "stdout",
     "output_type": "stream",
     "text": [
      "Δώσε έναν αριθμό a και ένα μέτρο n\n",
      "Ποιος είναι ο αντίστροφος του a mod n;\n"
     ]
    },
    {
     "data": {
      "application/vnd.jupyter.widget-view+json": {
       "model_id": "1926a23539f7469280e06e36da6a84e8",
       "version_major": 2,
       "version_minor": 0
      },
      "text/plain": [
       "Interactive function <function inverse_via_xgcd at 0x6ffd3e58b830> with 3 widgets\n",
       "  a: EvalText(value='5', des…"
      ]
     },
     "metadata": {},
     "output_type": "display_data"
    }
   ],
   "source": [
    "# Εύρεση πολλαπλασιαστικού αντιστρόφου μέσω xgcd\n",
    "print (f\"Δώσε έναν αριθμό a και ένα μέτρο n\")\n",
    "print (f\"Ποιος είναι ο αντίστροφος του a mod n;\")\n",
    "@interact\n",
    "def inverse_via_xgcd(\n",
    "    a=input_box(5, label=\"a\"),\n",
    "    n=input_box(13, label=\"n\"),\n",
    "    απάντηση=input_box('', label=\"Απάντηση\", type=str)\n",
    "):\n",
    "    print(\"Δώσε το πολλαπλασιαστικό αντίστροφο του a modulo n (αν υπάρχει):\")\n",
    "    print(\"Δηλαδή βρες x ώστε a·x ≡ 1 mod n\\n\")\n",
    "    \n",
    "    # ANSI codes for colors\n",
    "    GREEN = \"\\033[92m\"\n",
    "    RED = \"\\033[91m\"\n",
    "    RESET = \"\\033[0m\"\n",
    "\n",
    "    if απάντηση.strip() != '':\n",
    "        try:\n",
    "            user = Integer(απάντηση)\n",
    "            g, x, y = xgcd(a, n)\n",
    "\n",
    "            if g != 1:\n",
    "                print(f\"{RED}✗ Δεν υπάρχει αντίστροφος.{RESET} gcd({a},{n}) = {g} ≠ 1\")\n",
    "                print(\"➡ Για να υπάρχει αντίστροφος mod n, πρέπει o a να είναι σχετικά πρώτος με το n.\")\n",
    "            else:\n",
    "                σωστό = x % n\n",
    "                if user == σωστό:\n",
    "                    print(f\"{GREEN}Σωστά!{RESET} Ο αντίστροφος του {a} mod {n} είναι το {σωστό}.\")\n",
    "                else:\n",
    "                    print(f\"{RED}✗ Λάθος. {RESET} Ο σωστός είναι: {σωστό}\")\n",
    "\n",
    "                print(f\"\\n Από xgcd({a}, {n}) ⇒ x = {x}, y = {y}\")\n",
    "                print(f\"➡ Επαλήθευση: {a}·{σωστό} = {a * σωστό} ≡ {(a * σωστό) % n} ≡ 1 mod {n}\")\n",
    "        except:\n",
    "            print(\"⚠️ Δώσε έγκυρο ακέραιο αριθμό για την απάντηση.\")\n"
   ]
  },
  {
   "cell_type": "code",
   "execution_count": null,
   "metadata": {},
   "outputs": [],
   "source": []
  },
  {
   "cell_type": "code",
   "execution_count": null,
   "metadata": {},
   "outputs": [],
   "source": []
  }
 ],
 "metadata": {
  "kernelspec": {
   "display_name": "SageMath 9.3",
   "language": "sage",
   "name": "sagemath"
  },
  "language_info": {
   "codemirror_mode": {
    "name": "ipython",
    "version": 3
   },
   "file_extension": ".py",
   "mimetype": "text/x-python",
   "name": "python",
   "nbconvert_exporter": "python",
   "pygments_lexer": "ipython3",
   "version": "3.7.10"
  }
 },
 "nbformat": 4,
 "nbformat_minor": 4
}
