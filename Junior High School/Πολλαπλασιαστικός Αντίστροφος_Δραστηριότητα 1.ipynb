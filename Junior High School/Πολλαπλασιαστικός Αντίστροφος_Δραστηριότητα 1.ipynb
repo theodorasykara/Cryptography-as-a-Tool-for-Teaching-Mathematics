{
 "cells": [
  {
   "cell_type": "code",
   "execution_count": 16,
   "metadata": {},
   "outputs": [
    {
     "name": "stdout",
     "output_type": "stream",
     "text": [
      "Ποιος είναι ο πολλαπλασιαστικός αντίστροφος του 3 mod 7;\n"
     ]
    },
    {
     "data": {
      "application/vnd.jupyter.widget-view+json": {
       "model_id": "4eb911546b434e0aa84f06ecb6f704a1",
       "version_major": 2,
       "version_minor": 0
      },
      "text/plain": [
       "Interactive function <function inverse_3_mod_7 at 0x6ffd3e5d2560> with 1 widget\n",
       "  απάντηση: EvalText(value='',…"
      ]
     },
     "metadata": {},
     "output_type": "display_data"
    }
   ],
   "source": [
    "# Δ1.1-Υπολογισμός Αντίστροφου του 3mod7\n",
    "print(f\"Ποιος είναι ο πολλαπλασιαστικός αντίστροφος του 3 mod 7;\")\n",
    "@interact\n",
    "def inverse_3_mod_7(απάντηση=input_box(default=\"\", label=\"Απάντηση\")):\n",
    "    a, n = 3, 7\n",
    "    σωστό = inverse_mod(a, n)\n",
    "    απάντηση = Integer(απάντηση)\n",
    "    \n",
    "    if απάντηση == σωστό:\n",
    "        show(html(f\"<b style='color:green'> ✔ Σωστά!</b> Ο αντίστροφος του 3 mod 7 είναι {σωστό}.\"))\n",
    "    else:\n",
    "        show(html(f\"<b style='color:red'>✘ Λάθος.</b> Ο σωστός είναι {σωστό}.\"))\n",
    "\n",
    "    # Επαλήθευση\n",
    "    επιβεβαίωση = (a * σωστό) % n\n",
    "    print(f\"➡ Επαλήθευση: {a} × {σωστό} ≡ {a * σωστό} ≡ {επιβεβαίωση} mod {n}\")\n",
    "    print(\"👉 Ο αριθμός b είναι αντίστροφος αν ικανοποιεί: a·b ≡ 1 mod n\")\n"
   ]
  },
  {
   "cell_type": "code",
   "execution_count": 17,
   "metadata": {},
   "outputs": [
    {
     "name": "stdout",
     "output_type": "stream",
     "text": [
      "Διάλεξε έναν αριθμό a ∈ {1,...,16}\n",
      "Ποιος είναι ο αντίστροφος του a mod 17;\n"
     ]
    },
    {
     "data": {
      "application/vnd.jupyter.widget-view+json": {
       "model_id": "dc77bc25feb74d409556561d87a13455",
       "version_major": 2,
       "version_minor": 0
      },
      "text/plain": [
       "Interactive function <function check_inverse_mod_17 at 0x6ffd3e5d2ef0> with 3 widgets\n",
       "  a: Dropdown(descriptio…"
      ]
     },
     "metadata": {},
     "output_type": "display_data"
    }
   ],
   "source": [
    "# Δ1.2-Εύρεση και Εξερεύνηση των Αντιστρόφων Στοιχείων στο ℤ/17ℤ\n",
    "print(f\"Διάλεξε έναν αριθμό a ∈ {{1,...,16}}\")\n",
    "print(f\"Ποιος είναι ο αντίστροφος του a mod 17;\")\n",
    "@interact\n",
    "def check_inverse_mod_17(\n",
    "    a=selector(range(1, 17), label=\"a ∈ {1,..,16}:\"),\n",
    "    απάντηση=input_box('', label=\"Απάντηση\", type=str),\n",
    "    εμφάνιση_όλων=checkbox(False, label=\"Θέλω να δω όλους τους αντίστροφους mod 17\")\n",
    "):\n",
    "    n = 17\n",
    "    print(f\" Βρες τον πολλαπλασιαστικό αντίστροφο του {a} mod {n}.\")\n",
    "\n",
    "    if απάντηση.strip() != '':\n",
    "        try:\n",
    "            user_inv = Integer(απάντηση)\n",
    "            σωστός = inverse_mod(a, n)\n",
    "\n",
    "            if user_inv == σωστός:\n",
    "                show(html(f\"<b style='color:green'> ✔ Σωστά! Ο αντίστροφος του {a} mod {n} είναι το {σωστός}.\"))\n",
    "            else:\n",
    "                show(html(f\"<b style='color:red'>✘  Λάθος. Ο σωστός είναι: {σωστός}\"))\n",
    "            \n",
    "            print(f\"➡ Επαλήθευση: {a} × {σωστός} ≡ {(a * σωστός) % n} ≡ 1 mod {n}\")\n",
    "        except:\n",
    "            print(\" !!! Δώσε έγκυρο ακέραιο αριθμό.\")\n",
    "\n",
    "    if εμφάνιση_όλων:\n",
    "        print(\"\\n Όλοι οι αντίστροφοι mod 17:\")\n",
    "        for i in range(1, 17):\n",
    "            inv = inverse_mod(i, n)\n",
    "            print(f\"{i}⁻¹ ≡ {inv} mod {n}\")\n",
    "        print(\"\\n Το 17 είναι πρώτος αριθμός ⇒ όλοι οι αριθμοί από 1 ως 16 έχουν αντίστροφο.\")\n"
   ]
  },
  {
   "cell_type": "code",
   "execution_count": null,
   "metadata": {},
   "outputs": [],
   "source": []
  }
 ],
 "metadata": {
  "kernelspec": {
   "display_name": "SageMath 9.3",
   "language": "sage",
   "name": "sagemath"
  },
  "language_info": {
   "codemirror_mode": {
    "name": "ipython",
    "version": 3
   },
   "file_extension": ".py",
   "mimetype": "text/x-python",
   "name": "python",
   "nbconvert_exporter": "python",
   "pygments_lexer": "ipython3",
   "version": "3.7.10"
  }
 },
 "nbformat": 4,
 "nbformat_minor": 4
}
