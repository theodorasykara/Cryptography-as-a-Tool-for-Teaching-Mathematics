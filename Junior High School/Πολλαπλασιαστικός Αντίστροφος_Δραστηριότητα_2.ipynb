{
 "cells": [
  {
   "cell_type": "markdown",
   "metadata": {},
   "source": [
    " ## Αντίστροφα Modulo & Κρυπτογραφία RSA"
   ]
  },
  {
   "cell_type": "code",
   "execution_count": 16,
   "metadata": {},
   "outputs": [
    {
     "name": "stdout",
     "output_type": "stream",
     "text": [
      "1. Δώσε το mod n\n",
      "2. Επίλεξε έναν αριθμό a\n",
      "3. Δώσε τον αντίστροφο του a mod n (ή άφησε κενό αν δεν υπάρχει)\n"
     ]
    },
    {
     "data": {
      "application/vnd.jupyter.widget-view+json": {
       "model_id": "188e47d6e83441e78a7bcf215ff12258",
       "version_major": 2,
       "version_minor": 0
      },
      "text/plain": [
       "Interactive function <function inverse_quiz at 0x6ffd3e5463b0> with 4 widgets\n",
       "  n: EvalText(value='14', descri…"
      ]
     },
     "metadata": {},
     "output_type": "display_data"
    }
   ],
   "source": [
    "# Δ2.1-Υπολογισμός όλων των αντιστρόφων modulo n\n",
    "print(f\"1. Δώσε το mod n\")\n",
    "print(f\"2. Επίλεξε έναν αριθμό a\")\n",
    "print(f\"3. Δώσε τον αντίστροφο του a mod n (ή άφησε κενό αν δεν υπάρχει)\")\n",
    "@interact\n",
    "def inverse_quiz(\n",
    "    n=input_box(14, label=\"mod n:\"),\n",
    "    a=selector(range(1, 21), label=\"a:\", default=5),\n",
    "    απάντηση=input_box('', label=\"inv a mod n:\", type=str),\n",
    "    εμφάνιση_όλων=checkbox(False, label=\"Εμφάνισε όλους τους αντίστροφους mod n\")\n",
    "):\n",
    "    print(f\"Εξέτασε αν υπάρχει αντίστροφος του {a} mod {n}.\\n\")\n",
    "\n",
    "    g = gcd(a, n)\n",
    "\n",
    "    if απάντηση.strip() != '':\n",
    "        try:\n",
    "            if g != 1:\n",
    "                show(html(f\"<b style='color:red'>✘ Δεν υπάρχει αντίστροφος γιατί gcd({a},{n}) = {g} ≠ 1.\"))\n",
    "                print(\"👉 Ένας αριθμός έχει αντίστροφο mod n μόνο αν είναι σχετικά πρώτος με το n.\")\n",
    "            else:\n",
    "                user_inv = Integer(απάντηση)\n",
    "                σωστός = inverse_mod(a, n)\n",
    "                if user_inv == σωστός:\n",
    "                    show(html(f\"<b style='color:green'>✔ Σωστά! Ο αντίστροφος του {a} mod {n} είναι το {σωστός}.\"))\n",
    "                else:\n",
    "                    show(html(f\"<b style='color:red'>✘ Λάθος. Ο σωστός είναι: {σωστός}\"))\n",
    "                print(f\"➡ Επαλήθευση: {a}·{σωστός} ≡ {(a * σωστός) % n} mod {n}\")\n",
    "        except:\n",
    "            print(\"!!! Δώσε έγκυρο ακέραιο αριθμό ή άφησέ το κενό αν δεν υπάρχει αντίστροφος.\")\n",
    "\n",
    "    elif g != 1:\n",
    "        show(html(f\"<b style='color:green'>✔ Σωστά που δεν έδωσες απάντηση. Δεν υπάρχει αντίστροφος γιατί gcd({a},{n}) = {g} ≠ 1.\"))\n",
    "\n",
    "    if εμφάνιση_όλων:\n",
    "        αντιστρόφοι = []\n",
    "        μη_αντιστρέψιμοι = []\n",
    "        for k in range(1, n):\n",
    "            if gcd(k, n) == 1:\n",
    "                inv = inverse_mod(k, n)\n",
    "                αντιστρόφοι.append((k, inv))\n",
    "            else:\n",
    "                μη_αντιστρέψιμοι.append(k)\n",
    "        \n",
    "        print(f\"\\n Αντίστροφοι mod {n}:\")\n",
    "        for k, inv in αντιστρόφοι:\n",
    "            print(f\"  {k}⁻¹ ≡ {inv} mod {n}\")\n",
    "        \n",
    "        print(f\"\\n Υπάρχουν {len(αντιστρόφοι)} αριθμοί με αντίστροφο ⇒ φ({n}) = {euler_phi(n)}\")\n",
    "        \n",
    "        if μη_αντιστρέψιμοι:\n",
    "            print(f\" Αυτοί ΔΕΝ έχουν αντίστροφο: {μη_αντιστρέψιμοι}\")\n",
    "\n"
   ]
  },
  {
   "cell_type": "code",
   "execution_count": 17,
   "metadata": {},
   "outputs": [
    {
     "name": "stdout",
     "output_type": "stream",
     "text": [
      "Ποια είναι η τιμή του d (αντίστροφος του e mod φ(n));\n"
     ]
    },
    {
     "data": {
      "application/vnd.jupyter.widget-view+json": {
       "model_id": "8c3d64da5bcb4483aa106b870b6b0a81",
       "version_major": 2,
       "version_minor": 0
      },
      "text/plain": [
       "Interactive function <function rsa_inverse at 0x6ffd3e546200> with 4 widgets\n",
       "  p: EvalText(value='17', descrip…"
      ]
     },
     "metadata": {},
     "output_type": "display_data"
    }
   ],
   "source": [
    "# Δ2.2 Αντίστροφος στην Κρυπτογραφία RSA\n",
    "print(f\"Ποια είναι η τιμή του d (αντίστροφος του e mod φ(n));\")\n",
    "@interact\n",
    "def rsa_inverse(\n",
    "    p=input_box(17, label=\"p:\"),\n",
    "    q=input_box(11, label=\"q:\"),\n",
    "    e=input_box(7, label=\"e:\"),\n",
    "    απάντηση=input_box('', label=\"Απάντηση:\", type=str)\n",
    "):\n",
    "    n = p * q\n",
    "    φ = (p - 1) * (q - 1)\n",
    "    print(f\" RSA: Για p = {p}, q = {q} → n = p·q = {n}, φ(n) = (p−1)(q−1) = {φ}\")\n",
    "    print(f\" Βρες το d τέτοιο ώστε: e·d ≡ 1 mod φ(n), δηλαδή τον αντίστροφο του {e} mod {φ}\")\n",
    "\n",
    "    if απάντηση.strip() != '':\n",
    "        try:\n",
    "            d_user = Integer(απάντηση)\n",
    "            if gcd(e, φ) != 1:\n",
    "                print(f\" Δεν υπάρχει αντίστροφος γιατί gcd({e}, {φ}) ≠ 1.\")\n",
    "                print(\"Πρέπει να επιλεγεί e που να είναι σχετικά πρώτος με φ(n).\")\n",
    "            else:\n",
    "                σωστό = inverse_mod(e, φ)\n",
    "                if d_user == σωστό:\n",
    "                    show(html(f\"<b style='color:green'>✔ Σωστά! Ο αντίστροφος του {e} mod {φ} είναι d = {σωστό}.\"))\n",
    "                else:\n",
    "                    show(html(f\"<b style='color:red'>✘ Λάθος. Ο σωστός είναι: d = {σωστό}\"))\n",
    "                print(f\"➡ Επαλήθευση: {e} × {σωστό} ≡ {(e * σωστό) % φ} ≡ 1 mod {φ}\")\n",
    "                print(\"Αυτή είναι η τιμή του ιδιωτικού εκθέτη (private key).\")\n",
    "        except:\n",
    "            print(\"⚠️ Δώσε έγκυρο ακέραιο αριθμό για την απάντηση.\")\n"
   ]
  },
  {
   "cell_type": "code",
   "execution_count": null,
   "metadata": {},
   "outputs": [],
   "source": []
  }
 ],
 "metadata": {
  "kernelspec": {
   "display_name": "SageMath 9.3",
   "language": "sage",
   "name": "sagemath"
  },
  "language_info": {
   "codemirror_mode": {
    "name": "ipython",
    "version": 3
   },
   "file_extension": ".py",
   "mimetype": "text/x-python",
   "name": "python",
   "nbconvert_exporter": "python",
   "pygments_lexer": "ipython3",
   "version": "3.7.10"
  }
 },
 "nbformat": 4,
 "nbformat_minor": 4
}
