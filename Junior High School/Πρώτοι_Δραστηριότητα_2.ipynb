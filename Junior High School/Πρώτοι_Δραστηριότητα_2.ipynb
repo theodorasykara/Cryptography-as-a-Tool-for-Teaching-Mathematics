{
 "cells": [
  {
   "cell_type": "code",
   "execution_count": 2,
   "metadata": {},
   "outputs": [
    {
     "name": "stdout",
     "output_type": "stream",
     "text": [
      "==== Δραστηριότητα 2 (Προχωρημένοι / Διερευνητικοί) ====\n"
     ]
    },
    {
     "data": {
      "application/vnd.jupyter.widget-view+json": {
       "model_id": "2f9198c655244e909ac3c75240acf34a",
       "version_major": 2,
       "version_minor": 0
      },
      "text/plain": [
       "Interactive function <function ερώτημα_1 at 0x6ffd3e604830> with 1 widget\n",
       "  Απάντηση: TransformText(value='', …"
      ]
     },
     "metadata": {},
     "output_type": "display_data"
    }
   ],
   "source": [
    "from sage.all import *\n",
    "\n",
    "# Τυχαίος 12-ψήφιος πρώτος αριθμός για τις ερωτήσεις\n",
    "p = random_prime(10^12, lbound=10^11)\n",
    "N = p * (p + 2)\n",
    "print(\"==== Δραστηριότητα 2 (Προχωρημένοι / Διερευνητικοί) ====\")\n",
    "\n",
    "@interact\n",
    "def ερώτημα_1(Απάντηση= input_box('', label='1. Πόσα ψηφία έχει ο p;', type=str)):\n",
    "    σωστό = len(str(p))\n",
    "    αν_σωστό = str(Απάντηση).strip() == str(σωστό)\n",
    "    if Απάντηση.strip() == '':\n",
    "        return html(\"<span style='color:orange'><b>Γράψε μια απάντηση.</b></span>\")\n",
    "    elif αν_σωστό:\n",
    "        return html(f\"\"\"\n",
    "        <span style='color:green'><b>Σωστά!</b> Ο αριθμός p έχει {σωστό} ψηφία.<br>\n",
    "        <small>Ο p είναι: <code>{p}</code>.<br>\n",
    "        Οι μεγάλοι πρώτοι χρησιμοποιούνται στην κρυπτογραφία.</small></span>\n",
    "        \"\"\")\n",
    "    else:\n",
    "        return html(f\"\"\"\n",
    "        <span style='color:red'><b>Λάθος.</b> Η σωστή απάντηση είναι: <b>{σωστό}</b>.<br>\n",
    "        <small>Ο αριθμός p είναι: <code>{p}</code>. Για να βρεις τα ψηφία, μέτρα τα σύμβολα.</small>\n",
    "        </span>\n",
    "        \"\"\")\n"
   ]
  },
  {
   "cell_type": "code",
   "execution_count": 3,
   "metadata": {},
   "outputs": [
    {
     "data": {
      "application/vnd.jupyter.widget-view+json": {
       "model_id": "76ac256d97b04e31b6bc541ae6fdd9be",
       "version_major": 2,
       "version_minor": 0
      },
      "text/plain": [
       "Interactive function <function ερώτημα_2 at 0x6ffd3e604440> with 1 widget\n",
       "  Απάντηση: TransformText(value='', …"
      ]
     },
     "metadata": {},
     "output_type": "display_data"
    }
   ],
   "source": [
    "@interact\n",
    "def ερώτημα_2(Απάντηση= input_box('', label='2. Ποιο είναι το αποτέλεσμα του factor(N); (γράψε πχ: 1234567,1234569)', type=str)):\n",
    "    σωστοί_παράγοντες = {p, p + 2}\n",
    "    if Απάντηση.strip() == '':\n",
    "        return html(\"<span style='color:orange'><b>Γράψε μια απάντηση.</b></span>\")\n",
    "    try:\n",
    "        nums = {Integer(a.strip()) for a in Απάντηση.split(\",\")}\n",
    "    except Exception:\n",
    "        return html(\"<span style='color:red'><b>Σφάλμα.</b> Εισάγετε δύο ακέραιους χωρισμένους με κόμμα.</span>\")\n",
    "    if nums == σωστοί_παράγοντες:\n",
    "        return html(f\"\"\"\n",
    "        <span style='color:green'><b>Σωστά!</b> Οι παράγοντες του N είναι p και p+2.<br>\n",
    "        <small>p = <code>{p}</code>, p+2 = <code>{p+2}</code>. Τέτοιοι αριθμοί λέγονται \"δίδυμοι πρώτοι\".</small>\n",
    "        </span>\n",
    "        \"\"\")\n",
    "    else:\n",
    "        return html(f\"\"\"\n",
    "        <span style='color:red'><b>Λάθος.</b> Η σωστή απάντηση είναι: <b>{p}, {p+2}</b>.<br>\n",
    "        <small>Για τον αριθμό N = <code>{N}</code>, οι παράγοντες είναι p και p+2 (p = {p}, p+2 = {p+2}).</small>\n",
    "        </span>\n",
    "        \"\"\")\n"
   ]
  },
  {
   "cell_type": "code",
   "execution_count": 6,
   "metadata": {},
   "outputs": [
    {
     "data": {
      "application/vnd.jupyter.widget-view+json": {
       "model_id": "5cd422edfd1e4976a9f6cd8638305884",
       "version_major": 2,
       "version_minor": 0
      },
      "text/plain": [
       "Interactive function <function ερώτημα_3 at 0x6ffd3e6310e0> with 1 widget\n",
       "  απάντηση: ToggleButtons(descriptio…"
      ]
     },
     "metadata": {},
     "output_type": "display_data"
    }
   ],
   "source": [
    "@interact\n",
    "def ερώτημα_3(\n",
    "    απάντηση=selector(\n",
    "        [\n",
    "            \"Η παραγοντοποίηση μεγάλων αριθμών είναι δύσκολη γιατί δεν υπάρχουν γνωστοί γρήγοροι αλγόριθμοι και η ασφάλεια του RSA βασίζεται σε αυτό.\",\n",
    "            \"Η παραγοντοποίηση μεγάλων αριθμών είναι εύκολη και μπορεί να γίνει γρήγορα από όλους.\",\n",
    "            \"Η παραγοντοποίηση μεγάλων αριθμών δεν σχετίζεται καθόλου με την κρυπτογραφία.\",\n",
    "            \"Η παραγοντοποίηση μεγάλων αριθμών είναι δύσκολη μόνο για μικρούς αριθμούς.\"\n",
    "        ],\n",
    "        buttons=True,\n",
    "        label=\"3. Γιατί η παραγοντοποίηση μεγάλων αριθμών είναι δύσκολη και πώς σχετίζεται με την κρυπτογραφία (π.χ. RSA);\"\n",
    "    )\n",
    "):\n",
    "    σωστή = \"Η παραγοντοποίηση μεγάλων αριθμών είναι δύσκολη γιατί δεν υπάρχουν γνωστοί γρήγοροι αλγόριθμοι και η ασφάλεια του RSA βασίζεται σε αυτό.\"\n",
    "    εξήγηση = (\"Η παραγοντοποίηση μεγάλων αριθμών είναι δύσκολη γιατί δεν υπάρχουν γνωστοί αποδοτικοί αλγόριθμοι (πολυωνυμικού χρόνου) για αυτό το πρόβλημα. \"\n",
    "               \"Η ασφάλεια του RSA βασίζεται στη δυσκολία αυτή: αν κάποιος μπορέσει να παραγοντοποιήσει γρήγορα πολύ μεγάλους αριθμούς, μπορεί να σπάσει το RSA.\")\n",
    "    if απάντηση == σωστή:\n",
    "        return html(f\"<span style='color:green'><b>Σωστά!</b></span><br><i>{εξήγηση}</i>\")\n",
    "    else:\n",
    "        return html(f\"<span style='color:red'><b>Λάθος.</b></span><br><b>Η σωστή απάντηση είναι:</b> {σωστή}<br><i>{εξήγηση}</i>\")\n"
   ]
  },
  {
   "cell_type": "code",
   "execution_count": null,
   "metadata": {},
   "outputs": [
    {
     "data": {
      "application/vnd.jupyter.widget-view+json": {
       "model_id": "514e1ecc4d2c474c9184dba014544a6c",
       "version_major": 2,
       "version_minor": 0
      },
      "text/plain": [
       "Interactive function <function δραστηριότητα_4 at 0x6ffd3e6973b0> with 2 widgets\n",
       "  x_max: TransformIntSlider(v…"
      ]
     },
     "metadata": {},
     "output_type": "display_data"
    }
   ],
   "source": [
    "@interact\n",
    "def δραστηριότητα_4(\n",
    "    x_max=slider(100, 10000, 100, default=1000, label=\"4α. Ορισμός μεγίστου x για το διάγραμμα\"),\n",
    "    Απάντηση=input_box('', label=\"4β. Τι συμπέρασμα βγάζετε για την πυκνότητα των πρώτων;\", type=str)\n",
    "):\n",
    "    # Διάγραμμα (4α)\n",
    "    xs = list(range(2, x_max + 1, max(1, x_max // 50)))\n",
    "    pts = [prime_pi(n) for n in xs]\n",
    "    approx = [n / log(n) for n in xs]\n",
    "    p1 = line(zip(xs, pts), legend_label=\"π(x)\")\n",
    "    p2 = line(zip(xs, approx), legend_label=\"x/log(x)\")\n",
    "    show(p1 + p2)\n",
    "    \n",
    "    # Ανατροφοδότηση (4β)\n",
    "    σωστή_απάντηση = \"Η συνάρτηση π(x) προσεγγίζει το x/log(x). Άρα, όσο μεγαλώνει το x, τόσο αραιώνουν οι πρώτοι αριθμοί, και η 'πυκνότητά' τους είναι περίπου 1/log(x).\"\n",
    "    if Απάντηση.strip() == '':\n",
    "        html_out = \"<span style='color:orange'><b>Γράψε μια παρατήρηση.</b></span>\"\n",
    "    else:\n",
    "        html_out = f\"\"\"<span style='color:blue'><b>Ανατροφοδότηση:</b>\n",
    "        <br>Σωστή απάντηση:\n",
    "        <br><i>{σωστή_απάντηση}</i></span>\"\"\"\n",
    "    return html(html_out)"
   ]
  },
  {
   "cell_type": "code",
   "execution_count": null,
   "metadata": {},
   "outputs": [],
   "source": []
  }
 ],
 "metadata": {
  "kernelspec": {
   "display_name": "SageMath 9.3",
   "language": "sage",
   "name": "sagemath"
  },
  "language_info": {
   "codemirror_mode": {
    "name": "ipython",
    "version": 3
   },
   "file_extension": ".py",
   "mimetype": "text/x-python",
   "name": "python",
   "nbconvert_exporter": "python",
   "pygments_lexer": "ipython3",
   "version": "3.7.10"
  }
 },
 "nbformat": 4,
 "nbformat_minor": 4
}
