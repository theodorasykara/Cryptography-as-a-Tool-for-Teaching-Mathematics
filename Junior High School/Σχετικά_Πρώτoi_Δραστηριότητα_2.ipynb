{
 "cells": [
  {
   "cell_type": "markdown",
   "metadata": {},
   "source": [
    "## Υπολογισμος Πολλαπλασιαστικών Αντιστρόφων"
   ]
  },
  {
   "cell_type": "code",
   "execution_count": 14,
   "metadata": {},
   "outputs": [
    {
     "name": "stdout",
     "output_type": "stream",
     "text": [
      "Δώσε τον πολλαπλασιαστικό αντίστροφο του 3 mod 7\n",
      "(δηλαδή έναν αριθμό x ώστε 3·x ≡ 1 mod 7).\n",
      "\n"
     ]
    },
    {
     "data": {
      "application/vnd.jupyter.widget-view+json": {
       "model_id": "6785cff8efdd48e782a9d3bd9adb22d1",
       "version_major": 2,
       "version_minor": 0
      },
      "text/plain": [
       "Interactive function <function inverse_mod_3_7 at 0x6ffd3e617440> with 1 widget\n",
       "  απάντηση: EvalText(value='',…"
      ]
     },
     "metadata": {},
     "output_type": "display_data"
    }
   ],
   "source": [
    "# Δραστηριότητα 2.1 - Υπολογισμός Αντίστροφου του 3mod7\n",
    "print(\"Δώσε τον πολλαπλασιαστικό αντίστροφο του 3 mod 7\")\n",
    "print(\"(δηλαδή έναν αριθμό x ώστε 3·x ≡ 1 mod 7).\\n\")\n",
    "\n",
    "@interact\n",
    "def inverse_mod_3_7(απάντηση=input_box('', label=\"Απάντηση:\")):\n",
    "    if απάντηση != '':\n",
    "        try:\n",
    "            α = int(απάντηση)\n",
    "            σωστό = inverse_mod(3, 7)\n",
    "\n",
    "            if α == σωστό:\n",
    "                print(f\"✔ Σωστά! Ο πολλαπλασιαστικός αντίστροφος του 3 mod 7 είναι το {σωστό}.\")\n",
    "            else:\n",
    "                print(f\"✘ Όχι σωστά. Ο σωστός είναι: {σωστό}.\")\n",
    "\n",
    "            επαλήθευση = (3 * α) % 7\n",
    "            print(f\"➡ Επαλήθευση: 3 × {α} = {3 * α} ≡ {επαλήθευση} (mod 7)\")\n",
    "        except:\n",
    "            print(\"!!! Δώσε έγκυρο ακέραιο αριθμό.\")\n"
   ]
  },
  {
   "cell_type": "code",
   "execution_count": 16,
   "metadata": {},
   "outputs": [
    {
     "name": "stdout",
     "output_type": "stream",
     "text": [
      "Δώσε έναν αριθμό a και ένα μέτρο n\n"
     ]
    },
    {
     "data": {
      "application/vnd.jupyter.widget-view+json": {
       "model_id": "5fb0fb7dfdac46298f8ccf43bcac4a24",
       "version_major": 2,
       "version_minor": 0
      },
      "text/plain": [
       "Interactive function <function inverse_mod_check at 0x6ffd3e617ef0> with 2 widgets\n",
       "  a: EvalText(value='', des…"
      ]
     },
     "metadata": {},
     "output_type": "display_data"
    }
   ],
   "source": [
    "# Δραστηριότητα 2.2 - Όλοι οι αντίστροφοι mod 17\n",
    "print(\"Δώσε έναν αριθμό a και ένα μέτρο n\")\n",
    "@interact\n",
    "def inverse_mod_check(a=input_box('', label=\"Δώσε a:\"), \n",
    "                      n=input_box('', label=\"και n:\")):\n",
    "    if a != '' and n != '':\n",
    "        try:\n",
    "            a = Integer(a)\n",
    "            n = Integer(n)\n",
    "            d = gcd(a, n)\n",
    "\n",
    "            if d != 1:\n",
    "                print(f\"✘ Δεν υπάρχει πολλαπλασιαστικός αντίστροφος του {a} mod {n}.\")\n",
    "                print(f\"➡ gcd({a}, {n}) = {d} ≠ 1 ⇒ Άρα, δεν υπάρχει αντίστροφος.\")\n",
    "                print(\"👉 Ένας αριθμός έχει αντίστροφο mod n μόνο αν είναι σχετικά πρώτος με το n.\")\n",
    "            else:\n",
    "                αντίστροφος = inverse_mod(a, n)\n",
    "                print(f\"✔ Υπάρχει αντίστροφος: inverse_mod({a}, {n}) = {αντίστροφος}\")\n",
    "                print(f\"➡ Επαλήθευση: {a} × {αντίστροφος} = {a * αντίστροφος} ≡ {a * αντίστροφος % n} (mod {n})\")\n",
    "        except:\n",
    "            print(\"!!! Δώσε έγκυρους ακέραιους αριθμούς.\")\n"
   ]
  },
  {
   "cell_type": "code",
   "execution_count": null,
   "metadata": {},
   "outputs": [],
   "source": []
  }
 ],
 "metadata": {
  "kernelspec": {
   "display_name": "SageMath 9.3",
   "language": "sage",
   "name": "sagemath"
  },
  "language_info": {
   "codemirror_mode": {
    "name": "ipython",
    "version": 3
   },
   "file_extension": ".py",
   "mimetype": "text/x-python",
   "name": "python",
   "nbconvert_exporter": "python",
   "pygments_lexer": "ipython3",
   "version": "3.7.10"
  }
 },
 "nbformat": 4,
 "nbformat_minor": 4
}
