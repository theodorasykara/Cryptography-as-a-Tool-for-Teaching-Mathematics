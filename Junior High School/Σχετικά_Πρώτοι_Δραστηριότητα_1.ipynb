{
 "cells": [
  {
   "cell_type": "markdown",
   "metadata": {},
   "source": [
    "## Υπολογισμός gcd και Σχετικά Πρώτοι"
   ]
  },
  {
   "cell_type": "code",
   "execution_count": 21,
   "metadata": {},
   "outputs": [
    {
     "name": "stdout",
     "output_type": "stream",
     "text": [
      "1. Διάλεξε ζευγάρι αριθμών\n",
      "2. Δώσε το gcd των δύο αριθμών\n"
     ]
    },
    {
     "data": {
      "application/vnd.jupyter.widget-view+json": {
       "model_id": "5d41bf047f5e41c59ae4dab1af6a59f9",
       "version_major": 2,
       "version_minor": 0
      },
      "text/plain": [
       "Interactive function <function gcd_quiz at 0x6ffd3e4c00e0> with 2 widgets\n",
       "  ζευγάρι: Dropdown(description='Ζευ…"
      ]
     },
     "metadata": {},
     "output_type": "display_data"
    }
   ],
   "source": [
    "# Δραστηριότητα 1.1 — Υπολογισμός gcd\n",
    "print(\"1. Διάλεξε ζευγάρι αριθμών\")\n",
    "print(\"2. Δώσε το gcd των δύο αριθμών\")\n",
    "@interact\n",
    "def gcd_quiz(ζευγάρι=selector([((21, 28), '21 και 28'),\n",
    "                              ((21, 29), '21 και 29'),\n",
    "                              ((35, 64), '35 και 64')],\n",
    "                              label=\"Ζευγάρι\"),\n",
    "             απάντηση=input_box(default=1, label=\"gcd:\")):\n",
    "    a, b = Integer(ζευγάρι[0]), Integer(ζευγάρι[1])\n",
    "    σωστό = gcd(a, b)\n",
    "    απάντηση = Integer(απάντηση)\n",
    "    if απάντηση == σωστό:\n",
    "        html(f\"<b style='color:green'>✔ Σωστά!</b> Το gcd({a}, {b}) = {σωστό}.\")\n",
    "        if σωστό == 1:\n",
    "            print(\"➡ Αυτό σημαίνει ότι οι αριθμοί δεν έχουν κανέναν κοινό διαιρέτη πέρα από το 1, άρα είναι σχετικά πρώτοι.\")\n",
    "        else:\n",
    "            print(f\"➡ Ο μεγαλύτερος κοινός τους διαιρέτης είναι {σωστό}, άρα ΔΕΝ είναι σχετικά πρώτοι.\")\n",
    "    else:\n",
    "        html(f\"<b style='color:red'>✘ Λάθος.</b> Το σωστό αποτέλεσμα είναι gcd({a}, {b}) = {σωστό}.\")\n",
    "        if σωστό == 1:\n",
    "            print(\"➡ Εφόσον ο μόνος κοινός διαιρέτης είναι το 1, αυτοί οι αριθμοί είναι σχετικά πρώτοι.\")\n",
    "        else:\n",
    "            print(f\"➡ Εφόσον έχουν κοινό διαιρέτη το {σωστό}, δεν είναι σχετικά πρώτοι.\")\n",
    "\n"
   ]
  },
  {
   "cell_type": "code",
   "execution_count": 22,
   "metadata": {},
   "outputs": [
    {
     "name": "stdout",
     "output_type": "stream",
     "text": [
      "Ποιοι φυσικοί αριθμοί μικρότεροι του 15 είναι σχετικά πρώτοι με το 15; (Δηλαδή έχουν gcd(k, 15) = 1)\n",
      "Δώσε αριθμούς <15 χωρισμένους με κόμμα:\n"
     ]
    },
    {
     "data": {
      "application/vnd.jupyter.widget-view+json": {
       "model_id": "37fd4187da08451b835332ddfb491a1a",
       "version_major": 2,
       "version_minor": 0
      },
      "text/plain": [
       "Interactive function <function έλεγχος_σχετικά_πρώτων at 0x6ffd3e4c0200> with 2 widgets\n",
       "  εισαγωγή: TransformT…"
      ]
     },
     "metadata": {},
     "output_type": "display_data"
    }
   ],
   "source": [
    "# Δραστηριότητα 1.2 — Σχετικά Πρώτοι με το 15\n",
    "print(\"Ποιοι φυσικοί αριθμοί μικρότεροι του 15 είναι σχετικά πρώτοι με το 15; (Δηλαδή έχουν gcd(k, 15) = 1)\")\n",
    "print(\"Δώσε αριθμούς <15 χωρισμένους με κόμμα:\")\n",
    "\n",
    "@interact\n",
    "def έλεγχος_σχετικά_πρώτων(\n",
    "    εισαγωγή=input_box(\"\", type=str, label=\"Αριθμοί:\"),\n",
    "    εμφάνιση_σωστής=checkbox(False, \" Εμφάνισε τη σωστή απάντηση\")\n",
    "):\n",
    "    try:\n",
    "        numbers = [int(n.strip()) for n in εισαγωγή.split(',') if n.strip() != '']\n",
    "        input_set = set(numbers)\n",
    "\n",
    "        σωστοί = [n for n in range(1, 15) if gcd(n, 15) == 1]\n",
    "        σωστοί_set = set(σωστοί)\n",
    "\n",
    "        if input_set == σωστοί_set:\n",
    "            show(html(\"<b style='color:green'> Μπράβο! Η απάντησή σου είναι σωστή!</b>\"))\n",
    "        else:\n",
    "            wrong = input_set - σωστοί_set\n",
    "            feedback = \"<b style='color:red'>❌ Η απάντησή σου δεν είναι πλήρως σωστή.</b><br>\"\n",
    "            if wrong:\n",
    "                feedback += f\"🔻 <b>Λανθασμένοι αριθμοί:</b> {', '.join(map(str, sorted(wrong)))}<br>\"\n",
    "            show(html(feedback))\n",
    "\n",
    "        if εμφάνιση_σωστής:\n",
    "            missed = σωστοί_set - input_set\n",
    "            show(html(f\"<b style='color:blue'> Οι σχετικά πρώτοι με το 15 είναι:</b> {', '.join(map(str, σωστοί))}\"))\n",
    "            if missed:\n",
    "                show(html(f\" <b>Έλειπαν από την απάντησή σου:</b> {', '.join(map(str, sorted(missed)))}\"))\n",
    "\n",
    "    except:\n",
    "        show(html(\"<b style='color:orange'>⚠️ Λάθος μορφή εισόδου.</b> Χρησιμοποίησε ακέραιους χωρισμένους με κόμμα.\"))\n"
   ]
  },
  {
   "cell_type": "code",
   "execution_count": 23,
   "metadata": {},
   "outputs": [
    {
     "name": "stdout",
     "output_type": "stream",
     "text": [
      "Γιατί οι αριθμοί που βρήκαμε είναι σχετικά πρώτοι με το 15;\n"
     ]
    },
    {
     "data": {
      "application/vnd.jupyter.widget-view+json": {
       "model_id": "3d830eec596a4bdb9c4c4f0ce8cea4ad",
       "version_major": 2,
       "version_minor": 0
      },
      "text/plain": [
       "Interactive function <function δραστηριότητα_Β1 at 0x6ffd3e4c04d0> with 2 widgets\n",
       "  επιλογή: Dropdown(descript…"
      ]
     },
     "metadata": {},
     "output_type": "display_data"
    }
   ],
   "source": [
    "# Δραστηριότητα 1.3 —  Ερμηνεία του gcd(k,15)=1\n",
    "print(\"Γιατί οι αριθμοί που βρήκαμε είναι σχετικά πρώτοι με το 15;\")\n",
    "\n",
    "@interact\n",
    "def δραστηριότητα_Β1(\n",
    "    επιλογή=selector(\n",
    "        [\n",
    "            \"A. Επειδή όλοι διαιρούνται με το 3 ή το 5\",\n",
    "            \"B. Επειδή όλοι έχουν gcd(k,15)=1\",\n",
    "            \"C. Επειδή είναι μικρότεροι του 15\",\n",
    "            \"D. Επειδή είναι πρώτοι αριθμοί\"\n",
    "        ],\n",
    "        label=\"Επίλεξε:\",\n",
    "        buttons=False\n",
    "    ),\n",
    "    εμφάνιση_αξιολόγησης=checkbox(False, \"Εμφάνισε την ανατροφοδότηση\")\n",
    "):\n",
    "    if εμφάνιση_αξιολόγησης:\n",
    "        if επιλογή.startswith('B.'):\n",
    "            show(html(\"<b style='color:green'>✔ Σωστό!</b> Οι σχετικά πρώτοι με το 15 είναι εκείνοι που έχουν gcd(k, 15) = 1.\"))\n",
    "        else:\n",
    "            show(html(\"<b style='color:red'>✘ Λάθος.</b> Θυμήσου: 'σχετικά πρώτοι' σημαίνει ότι δεν έχουν κοινό διαιρέτη με το 15 εκτός από το 1.\"))\n"
   ]
  },
  {
   "cell_type": "code",
   "execution_count": 24,
   "metadata": {},
   "outputs": [
    {
     "name": "stdout",
     "output_type": "stream",
     "text": [
      "Βρήκαμε ότι υπάρχουν ___ αριθμοί μικρότεροι του 15 που είναι σχετικά πρώτοι με το 15. Αυτό σημαίνει ότι φ(15) =\n"
     ]
    },
    {
     "data": {
      "application/vnd.jupyter.widget-view+json": {
       "model_id": "b4aaff75c2e24d669523423ae8df13d9",
       "version_major": 2,
       "version_minor": 0
      },
      "text/plain": [
       "Interactive function <function δραστηριότητα_Β2 at 0x6ffd3e4c0440> with 1 widget\n",
       "  απάντηση: EvalText(value=''…"
      ]
     },
     "metadata": {},
     "output_type": "display_data"
    }
   ],
   "source": [
    "# Δραστηριότητα 1.4 — Πόσοι είναι; Τι μας λέει αυτό για το  φ(15);\n",
    "print(\"Βρήκαμε ότι υπάρχουν ___ αριθμοί μικρότεροι του 15 που είναι σχετικά πρώτοι με το 15. Αυτό σημαίνει ότι φ(15) =\")\n",
    "@interact\n",
    "def δραστηριότητα_Β2(απάντηση=input_box('', label=\"Απάντηση:\")):\n",
    "    try:\n",
    "        if int(απάντηση) == 8:\n",
    "            print(\"✔ Ακριβώς! Υπάρχουν 8 τέτοιοι αριθμοί. Άρα φ(15) = 8.\")\n",
    "        else:\n",
    "            print(\"✘ Λάθος. Ξαναμέτρησε τους αριθμούς που έχουν gcd(k,15)=1. Είναι 8, άρα φ(15)=8.\")\n",
    "    except:\n",
    "        print(\"!!! Πληκτρολόγησε έναν έγκυρο ακέραιο αριθμό.\")\n"
   ]
  },
  {
   "cell_type": "code",
   "execution_count": null,
   "metadata": {},
   "outputs": [],
   "source": []
  }
 ],
 "metadata": {
  "kernelspec": {
   "display_name": "SageMath 9.3",
   "language": "sage",
   "name": "sagemath"
  },
  "language_info": {
   "codemirror_mode": {
    "name": "ipython",
    "version": 3
   },
   "file_extension": ".py",
   "mimetype": "text/x-python",
   "name": "python",
   "nbconvert_exporter": "python",
   "pygments_lexer": "ipython3",
   "version": "3.7.10"
  }
 },
 "nbformat": 4,
 "nbformat_minor": 4
}
